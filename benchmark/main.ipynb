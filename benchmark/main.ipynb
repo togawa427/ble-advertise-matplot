{
 "cells": [
  {
   "cell_type": "markdown",
   "metadata": {},
   "source": [
    "実装にあたってこちらの記事を参考にさせていただきました  \n",
    "[Zenn 歩行時の加速度,角速度データから歩行軌跡を描いてみた - Beyond Toyama](https://zenn.dev/happy663/articles/1a0abc285b3a33)"
   ]
  },
  {
   "cell_type": "markdown",
   "metadata": {},
   "source": [
    "# 事前準備"
   ]
  },
  {
   "cell_type": "markdown",
   "metadata": {},
   "source": [
    "## ライブラリのインポート"
   ]
  },
  {
   "cell_type": "code",
   "execution_count": 131,
   "metadata": {},
   "outputs": [
    {
     "name": "stdout",
     "output_type": "stream",
     "text": [
      "Defaulting to user installation because normal site-packages is not writeable\n",
      "Requirement already satisfied: requests in /Users/togawa/Library/Python/3.9/lib/python/site-packages (2.32.3)\n",
      "Requirement already satisfied: urllib3<3,>=1.21.1 in /Users/togawa/Library/Python/3.9/lib/python/site-packages (from requests) (2.3.0)\n",
      "Requirement already satisfied: idna<4,>=2.5 in /Users/togawa/Library/Python/3.9/lib/python/site-packages (from requests) (3.10)\n",
      "Requirement already satisfied: charset-normalizer<4,>=2 in /Users/togawa/Library/Python/3.9/lib/python/site-packages (from requests) (3.4.1)\n",
      "Requirement already satisfied: certifi>=2017.4.17 in /Users/togawa/Library/Python/3.9/lib/python/site-packages (from requests) (2025.1.31)\n",
      "\u001b[33mWARNING: You are using pip version 21.2.4; however, version 25.0 is available.\n",
      "You should consider upgrading via the '/Applications/Xcode.app/Contents/Developer/usr/bin/python3 -m pip install --upgrade pip' command.\u001b[0m\n",
      "Note: you may need to restart the kernel to use updated packages.\n"
     ]
    }
   ],
   "source": [
    "%pip install requests"
   ]
  },
  {
   "cell_type": "code",
   "execution_count": 143,
   "metadata": {},
   "outputs": [],
   "source": [
    "import time\n",
    "import requests\n",
    "import random\n",
    "import csv"
   ]
  },
  {
   "cell_type": "markdown",
   "metadata": {},
   "source": [
    "# API実行時間計測"
   ]
  },
  {
   "cell_type": "code",
   "execution_count": 138,
   "metadata": {},
   "outputs": [],
   "source": [
    "url = \"http://localhost:8082/api/v1/stayers\"\n",
    "baseURL = \"http://localhost:8082\"\n",
    "\n",
    "# ヘッダー\n",
    "headers = {\n",
    "    \"Content-Type\": \"application/json\"\n",
    "}"
   ]
  },
  {
   "cell_type": "markdown",
   "metadata": {},
   "source": [
    "## ユーザ登録用関数の定義（APIを用いて）"
   ]
  },
  {
   "cell_type": "code",
   "execution_count": 149,
   "metadata": {},
   "outputs": [],
   "source": [
    "def createBasicBeaconUsers(numUsers, startUserId):\n",
    "  for i in range(numUsers):\n",
    "    name = ''.join(random.choices('abcdefghijklmnopqrstu', k=7))\n",
    "    # uuid = ''.join(random.choices('0123456789abcdef', k=5))\n",
    "    uuid = \"{:05}\".format(startUserId + i)\n",
    "    data = {\n",
    "        \"name\":name,\n",
    "        \"uuid\":uuid,\n",
    "        \"email\":\"\",\n",
    "        \"role\":1,\n",
    "        \"communityId\":1,\n",
    "        \"beaconName\":\"FCS1301\",\n",
    "        \"tagIds\":[1,5,10]\n",
    "    }\n",
    "    response = requests.post(baseURL+\"/api/v1/users\", json=data, headers=headers)"
   ]
  },
  {
   "cell_type": "markdown",
   "metadata": {},
   "source": [
    "## リクエストを定義"
   ]
  },
  {
   "cell_type": "markdown",
   "metadata": {},
   "source": [
    "### エンドポイントとヘッダーの設定"
   ]
  },
  {
   "cell_type": "markdown",
   "metadata": {},
   "source": [
    "### ボディデータを設定する関数を定義"
   ]
  },
  {
   "cell_type": "code",
   "execution_count": 125,
   "metadata": {},
   "outputs": [],
   "source": [
    "# 従来手法の未登録のユーザをリクエストに含める\n",
    "def getRequestBasicNonRegisterdUser(numUsers):\n",
    "    data = {\n",
    "        \"beacons\": [],\n",
    "        \"roomId\": 1\n",
    "    }\n",
    "    for i in range(numUsers):\n",
    "        hexString = ''.join(random.choices('0123456789abcdef', k=32))\n",
    "        # ボディデータ\n",
    "        data[\"beacons\"].append({\n",
    "            \"uuid\": hexString,\n",
    "            \"rssi\": -49\n",
    "        })\n",
    "    print(data)\n",
    "    return data\n",
    "\n",
    "# 従来手法の登録済みのユーザをリクエストに含める\n",
    "def getRequestBasicRegisterdUser(numUsers):\n",
    "    # ボディデータ\n",
    "    data = {\n",
    "        \"beacons\": [],\n",
    "        \"roomId\": 1\n",
    "    }\n",
    "    for i in range(numUsers):\n",
    "        hexString = ''.join(random.choices('0123456789abcdef', k=32))\n",
    "        # ボディデータ\n",
    "        data[\"beacons\"].append({\n",
    "            \"uuid\": hexString,\n",
    "            \"rssi\": -49\n",
    "        })\n",
    "    print(data)\n",
    "    return data"
   ]
  },
  {
   "cell_type": "markdown",
   "metadata": {},
   "source": [
    "## 計測"
   ]
  },
  {
   "cell_type": "markdown",
   "metadata": {},
   "source": [
    "### 従来手法での計測"
   ]
  },
  {
   "cell_type": "code",
   "execution_count": 151,
   "metadata": {},
   "outputs": [
    {
     "name": "stdout",
     "output_type": "stream",
     "text": [
      "start bench\n",
      "1/100回目\n",
      "{'beacons': [{'uuid': 'dda5609ab839a5f1c7c41d3824828bae', 'rssi': -49}, {'uuid': '35703b3aa8f29961124c9f9c7a6d6dc4', 'rssi': -49}, {'uuid': '6eef7f772b16b9041375128ffcd42824', 'rssi': -49}, {'uuid': '968dd25287318038dbf94bedaffd81c5', 'rssi': -49}, {'uuid': 'acebc40a234e91c53336f591719a74af', 'rssi': -49}, {'uuid': '3fbb021121e4b751c5e1592096d23ffd', 'rssi': -49}, {'uuid': 'fd2f0c357dc8314286530c8ef271e67d', 'rssi': -49}, {'uuid': 'b7ac5dc2ccf88ef663f2230e2c718a32', 'rssi': -49}, {'uuid': '68a0a974f4c5c77cfdd0076f90e92cd2', 'rssi': -49}, {'uuid': 'cd77b1d53eb010996db8323ac135cd0e', 'rssi': -49}], 'roomId': 1}\n",
      "2/100回目\n",
      "{'beacons': [{'uuid': '80f5281563811936de3bd0f50adb0fb4', 'rssi': -49}, {'uuid': '4cdfe42b5a7a58d6e26a457491ebaba6', 'rssi': -49}, {'uuid': '34976a1d6bf9cd0ace670baf107a09b6', 'rssi': -49}, {'uuid': '9995354ee8bfb571b2c6d8af49721fdb', 'rssi': -49}, {'uuid': 'e83f0a0cc0248c227ea72f9e473e623c', 'rssi': -49}, {'uuid': '717ac4470217345841df677aa00996b4', 'rssi': -49}, {'uuid': 'fa163ea44f7ce8651400981ad3f08a55', 'rssi': -49}, {'uuid': '1a878505be3ec70bbefd5b7fc2cdcd11', 'rssi': -49}, {'uuid': '54ebc2d38d6d1510d1d7a18dc4b805ea', 'rssi': -49}, {'uuid': 'a3dfb5b7701cf2fe81c481e6566155e4', 'rssi': -49}], 'roomId': 1}\n",
      "3/100回目\n",
      "{'beacons': [{'uuid': 'd3df39f2fbe34415727eb782336f2ee0', 'rssi': -49}, {'uuid': '2da5b51af31f372fde9b8d83e0ec7305', 'rssi': -49}, {'uuid': '418b995e46c84abccccd90f2c1678ce0', 'rssi': -49}, {'uuid': '6703d291ccc2c56c8af5269d564183a4', 'rssi': -49}, {'uuid': '9acd54b6978dfe6c29e40282dafeb054', 'rssi': -49}, {'uuid': '628170456434f24473c21e9c4502579e', 'rssi': -49}, {'uuid': 'b909634ebd636ba5617d7d178f6c79bc', 'rssi': -49}, {'uuid': '587c2268c83bf1513e895d5e6d036910', 'rssi': -49}, {'uuid': '5ea08822f994b4c55143f5f221768344', 'rssi': -49}, {'uuid': '2b1d93dce7834920bcb757bd0d1062ce', 'rssi': -49}], 'roomId': 1}\n",
      "4/100回目\n",
      "{'beacons': [{'uuid': '467757fa0f1c36c4ed9052a8c6a5b295', 'rssi': -49}, {'uuid': '20ac632f0179e686150a8d6d6467a8de', 'rssi': -49}, {'uuid': 'be7c3dc152c9a7cf9a54ef7096515f04', 'rssi': -49}, {'uuid': '24d5c029e11e6bb9b19a4cc0f72f532d', 'rssi': -49}, {'uuid': '9851682d34cffc2f542cb544ec22d159', 'rssi': -49}, {'uuid': 'e58d6e5a5253fa1abc8d2f120fba5c81', 'rssi': -49}, {'uuid': '05c02a830c6070a9cb570a2623c22911', 'rssi': -49}, {'uuid': '019eda05548e002411f502246cef8a61', 'rssi': -49}, {'uuid': 'c0e18bf9431a0d49334ec7715e33ad28', 'rssi': -49}, {'uuid': '8117ff33f748899776210cf1992b783f', 'rssi': -49}], 'roomId': 1}\n"
     ]
    }
   ],
   "source": [
    "FILE_PATH = \"out/basic01.csv\"\n",
    "with open(FILE_PATH, 'w') as f:\n",
    "  writer = csv.writer(f)\n",
    "  writer.writerow(['users', 'time', 'user_state', 'status'])\n",
    "\n",
    "print(\"start bench\")\n",
    "\n",
    "for i in range(4):\n",
    "  print(str(i+1) + \"/100回目\")\n",
    "  # 100人ランダムな従来ユーザを登録する（PythonでWebAPIを用いて）\n",
    "  createBasicBeaconUsers(2, 100*i)\n",
    "\n",
    "  # ランダムなユーザ(登録済み)を10人POSTで投げる\n",
    "  # start = time.perf_counter()\n",
    "  # response = requests.post(url, json=getRequestBasicNonRegisterdUser(10), headers=headers)\n",
    "  # end = time.perf_counter()\n",
    "\n",
    "  # ランダムなユーザ(未登録)を10人POSTで投げる\n",
    "  start = time.perf_counter()\n",
    "  response = requests.post(url, json=getRequestBasicNonRegisterdUser(10), headers=headers)\n",
    "  end = time.perf_counter()\n",
    "  with open(FILE_PATH, 'a', newline='') as f:\n",
    "    writer = csv.writer(f)\n",
    "    writer.writerow([100*(i+1), end - start, 'NonRegisterd', response.json()])  # 1行追加\n",
    "\n",
    "\n",
    "# start = time.perf_counter()\n",
    "\n",
    "# response = requests.post(url, json=getRequestBasicNonRegisterdUser(10), headers=headers)\n",
    "\n",
    "# end = time.perf_counter()\n",
    "# print(response.json())\n",
    "# print(\"end bench\")\n",
    "# print(\"実行時間: \" + str(end - start) + \" sec\")"
   ]
  },
  {
   "cell_type": "markdown",
   "metadata": {},
   "source": [
    "### 滞在情報をリセット"
   ]
  },
  {
   "cell_type": "code",
   "execution_count": 96,
   "metadata": {},
   "outputs": [],
   "source": [
    "# ボディデータ\n",
    "data = {\n",
    "    \"beacons\": [\n",
    "    ],\n",
    "    \"roomId\": 1\n",
    "}\n",
    "response = requests.post(url, json=data, headers=headers)"
   ]
  }
 ],
 "metadata": {
  "kernelspec": {
   "display_name": "Python 3",
   "language": "python",
   "name": "python3"
  },
  "language_info": {
   "codemirror_mode": {
    "name": "ipython",
    "version": 3
   },
   "file_extension": ".py",
   "mimetype": "text/x-python",
   "name": "python",
   "nbconvert_exporter": "python",
   "pygments_lexer": "ipython3",
   "version": "3.9.6"
  }
 },
 "nbformat": 4,
 "nbformat_minor": 2
}
