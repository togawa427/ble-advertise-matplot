{
 "cells": [
  {
   "cell_type": "markdown",
   "metadata": {},
   "source": [
    "実装にあたってこちらの記事を参考にさせていただきました  \n",
    "[Zenn 歩行時の加速度,角速度データから歩行軌跡を描いてみた - Beyond Toyama](https://zenn.dev/happy663/articles/1a0abc285b3a33)"
   ]
  },
  {
   "cell_type": "markdown",
   "metadata": {},
   "source": [
    "# 事前準備"
   ]
  },
  {
   "cell_type": "markdown",
   "metadata": {},
   "source": [
    "## ライブラリのインポート"
   ]
  },
  {
   "cell_type": "code",
   "execution_count": 131,
   "metadata": {},
   "outputs": [
    {
     "name": "stdout",
     "output_type": "stream",
     "text": [
      "Defaulting to user installation because normal site-packages is not writeable\n",
      "Requirement already satisfied: requests in /Users/togawa/Library/Python/3.9/lib/python/site-packages (2.32.3)\n",
      "Requirement already satisfied: urllib3<3,>=1.21.1 in /Users/togawa/Library/Python/3.9/lib/python/site-packages (from requests) (2.3.0)\n",
      "Requirement already satisfied: idna<4,>=2.5 in /Users/togawa/Library/Python/3.9/lib/python/site-packages (from requests) (3.10)\n",
      "Requirement already satisfied: charset-normalizer<4,>=2 in /Users/togawa/Library/Python/3.9/lib/python/site-packages (from requests) (3.4.1)\n",
      "Requirement already satisfied: certifi>=2017.4.17 in /Users/togawa/Library/Python/3.9/lib/python/site-packages (from requests) (2025.1.31)\n",
      "\u001b[33mWARNING: You are using pip version 21.2.4; however, version 25.0 is available.\n",
      "You should consider upgrading via the '/Applications/Xcode.app/Contents/Developer/usr/bin/python3 -m pip install --upgrade pip' command.\u001b[0m\n",
      "Note: you may need to restart the kernel to use updated packages.\n"
     ]
    }
   ],
   "source": [
    "%pip install requests"
   ]
  },
  {
   "cell_type": "code",
   "execution_count": 132,
   "metadata": {},
   "outputs": [],
   "source": [
    "import time\n",
    "import requests\n",
    "import random"
   ]
  },
  {
   "cell_type": "markdown",
   "metadata": {},
   "source": [
    "# API実行時間計測"
   ]
  },
  {
   "cell_type": "code",
   "execution_count": 138,
   "metadata": {},
   "outputs": [],
   "source": [
    "url = \"http://localhost:8082/api/v1/stayers\"\n",
    "baseURL = \"http://localhost:8082\"\n",
    "\n",
    "# ヘッダー\n",
    "headers = {\n",
    "    \"Content-Type\": \"application/json\"\n",
    "}"
   ]
  },
  {
   "cell_type": "markdown",
   "metadata": {},
   "source": [
    "## ユーザ登録（APIを用いて）"
   ]
  },
  {
   "cell_type": "code",
   "execution_count": null,
   "metadata": {},
   "outputs": [
    {
     "name": "stdout",
     "output_type": "stream",
     "text": [
      "{'status': 'ok'}\n",
      "{'status': 'ok'}\n"
     ]
    }
   ],
   "source": [
    "def createBasicBeaconUsers(numUsers):\n",
    "  for i in range(numUsers):\n",
    "    name = ''.join(random.choices('abcdefghijklmnopqrstu', k=7))\n",
    "    uuid = ''.join(random.choices('0123456789abcdef', k=5))\n",
    "    data = {\n",
    "        \"name\":name,\n",
    "        \"uuid\":uuid,\n",
    "        \"email\":\"\",\n",
    "        \"role\":1,\n",
    "        \"communityId\":1,\n",
    "        \"beaconName\":\"FCS1301\",\n",
    "        \"tagIds\":[1,5,10]\n",
    "    }\n",
    "    response = requests.post(baseURL+\"/api/v1/users\", json=data, headers=headers)\n",
    "    print(response.json())"
   ]
  },
  {
   "cell_type": "markdown",
   "metadata": {},
   "source": [
    "## リクエストを定義"
   ]
  },
  {
   "cell_type": "markdown",
   "metadata": {},
   "source": [
    "### エンドポイントとヘッダーの設定"
   ]
  },
  {
   "cell_type": "markdown",
   "metadata": {},
   "source": [
    "### ボディデータを設定する関数を定義"
   ]
  },
  {
   "cell_type": "code",
   "execution_count": 125,
   "metadata": {},
   "outputs": [],
   "source": [
    "# 従来手法の未登録のユーザをリクエストに含める\n",
    "def getRequestBasicNonRegisterdUser(numUsers):\n",
    "    data = {\n",
    "        \"beacons\": [],\n",
    "        \"roomId\": 1\n",
    "    }\n",
    "    for i in range(numUsers):\n",
    "        hexString = ''.join(random.choices('0123456789abcdef', k=32))\n",
    "        # ボディデータ\n",
    "        data[\"beacons\"].append({\n",
    "            \"uuid\": hexString,\n",
    "            \"rssi\": -49\n",
    "        })\n",
    "    print(data)\n",
    "    return data\n",
    "\n",
    "# 従来手法の登録済みのユーザをリクエストに含める\n",
    "def getRequestBasicRegisterdUser(numUsers):\n",
    "    # ボディデータ\n",
    "    data = {\n",
    "        \"beacons\": [],\n",
    "        \"roomId\": 1\n",
    "    }\n",
    "    for i in range(numUsers):\n",
    "        hexString = ''.join(random.choices('0123456789abcdef', k=32))\n",
    "        # ボディデータ\n",
    "        data[\"beacons\"].append({\n",
    "            \"uuid\": hexString,\n",
    "            \"rssi\": -49\n",
    "        })\n",
    "    print(data)\n",
    "    return data\n",
    "    # data = {\n",
    "    #     \"beacons\": [\n",
    "    #         {\n",
    "    #             \"uuid\": \"4c000180000021000022000121000024000023\",\n",
    "    #             \"rssi\": -49\n",
    "    #         },\n",
    "    #         {\n",
    "    #             \"uuid\": \"8ebc21144abdba0db7c6ff0a00200002\",\n",
    "    #             \"rssi\": -49\n",
    "    #         },\n",
    "    #         {\n",
    "    #             \"uuid\":\"e7d61ea3f8dd49c88f2ff2484c07ac02\",\n",
    "    #             \"rssi\": -50\n",
    "    #         },\n",
    "    #         {\n",
    "    #             \"uuid\":\"e7d61ea3f8dd49c88f2ff2484c07ac02\",\n",
    "    #             \"rssi\": -50\n",
    "    #         },\n",
    "    #         {\n",
    "    #             \"uuid\":\"e7d61ea3f8dd49c88f2ff2484c07ac02\",\n",
    "    #             \"rssi\": -50\n",
    "    #         }\n",
    "    #     ],\n",
    "    #     \"roomId\": 1\n",
    "    # }\n",
    "    # return data"
   ]
  },
  {
   "cell_type": "markdown",
   "metadata": {},
   "source": [
    "## 計測"
   ]
  },
  {
   "cell_type": "markdown",
   "metadata": {},
   "source": [
    "### 従来手法での計測"
   ]
  },
  {
   "cell_type": "code",
   "execution_count": null,
   "metadata": {},
   "outputs": [],
   "source": [
    "# file_path = 'data/basic.csv'\n",
    "# # CSVファイルを読み込む\n",
    "# df = pd.read_csv(file_path_advertise)"
   ]
  },
  {
   "cell_type": "code",
   "execution_count": null,
   "metadata": {},
   "outputs": [
    {
     "name": "stdout",
     "output_type": "stream",
     "text": [
      "start bench\n",
      "{'beacons': [{'uuid': 'ef532d5edf292965ac5d0ad2328cb5f5', 'rssi': -49}, {'uuid': 'e03177241e94ec72a9bf093bad58085e', 'rssi': -49}, {'uuid': '310b976967edfad39a8a1540b4097e0f', 'rssi': -49}, {'uuid': '52158990c2996e31bccd64aee350700a', 'rssi': -49}, {'uuid': '689d93b8938af9ce8dba09b2e6b5eab7', 'rssi': -49}, {'uuid': 'd046512194ca9bc9f0fd9a43def6e139', 'rssi': -49}, {'uuid': 'c9ebc4205f501fc5ded60007497952fd', 'rssi': -49}, {'uuid': 'b43743f0f48622fac7954708d45494b2', 'rssi': -49}, {'uuid': '5c509bd5d9b5324698a7415c38beb7dd', 'rssi': -49}, {'uuid': 'd49e177ed3895ecf499049e84820015a', 'rssi': -49}], 'roomId': 1}\n",
      "{'status': 'OK'}\n",
      "end bench\n",
      "実行時間: 0.07589337500030524 sec\n"
     ]
    }
   ],
   "source": [
    "print(\"start bench\")\n",
    "\n",
    "for i in range(100):\n",
    "  print(str(i) + \"/100回目\")\n",
    "  # 100人ランダムな従来ユーザを登録する（PythonでWebAPIを用いて）\n",
    "  createBasicBeaconUsers(2)\n",
    "  # ランダムなユーザ(登録済み)を10人POSTで投げる\n",
    "  start = time.perf_counter()\n",
    "  # response = requests.post(url, json=getRequestBasicNonRegisterdUser(10), headers=headers)\n",
    "  end = time.perf_counter()\n",
    "  # ランダムなユーザ(未登録)を10人POSTで投げる\n",
    "  start = time.perf_counter()\n",
    "  response = requests.post(url, json=getRequestBasicNonRegisterdUser(10), headers=headers)\n",
    "  end = time.perf_counter()\n",
    "\n",
    "\n",
    "start = time.perf_counter()\n",
    "\n",
    "response = requests.post(url, json=getRequestBasicNonRegisterdUser(10), headers=headers)\n",
    "\n",
    "end = time.perf_counter()\n",
    "print(response.json())\n",
    "print(\"end bench\")\n",
    "print(\"実行時間: \" + str(end - start) + \" sec\")"
   ]
  },
  {
   "cell_type": "markdown",
   "metadata": {},
   "source": [
    "### 滞在情報をリセット"
   ]
  },
  {
   "cell_type": "code",
   "execution_count": 96,
   "metadata": {},
   "outputs": [],
   "source": [
    "# ボディデータ\n",
    "data = {\n",
    "    \"beacons\": [\n",
    "    ],\n",
    "    \"roomId\": 1\n",
    "}\n",
    "response = requests.post(url, json=data, headers=headers)"
   ]
  }
 ],
 "metadata": {
  "kernelspec": {
   "display_name": "Python 3",
   "language": "python",
   "name": "python3"
  },
  "language_info": {
   "codemirror_mode": {
    "name": "ipython",
    "version": 3
   },
   "file_extension": ".py",
   "mimetype": "text/x-python",
   "name": "python",
   "nbconvert_exporter": "python",
   "pygments_lexer": "ipython3",
   "version": "3.9.6"
  }
 },
 "nbformat": 4,
 "nbformat_minor": 2
}
