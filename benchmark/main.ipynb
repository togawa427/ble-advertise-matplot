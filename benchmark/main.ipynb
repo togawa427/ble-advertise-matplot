{
 "cells": [
  {
   "cell_type": "markdown",
   "metadata": {},
   "source": [
    "実装にあたってこちらの記事を参考にさせていただきました  \n",
    "[Zenn 歩行時の加速度,角速度データから歩行軌跡を描いてみた - Beyond Toyama](https://zenn.dev/happy663/articles/1a0abc285b3a33)"
   ]
  },
  {
   "cell_type": "markdown",
   "metadata": {},
   "source": [
    "# 事前準備"
   ]
  },
  {
   "cell_type": "markdown",
   "metadata": {},
   "source": [
    "## ライブラリのインポート"
   ]
  },
  {
   "cell_type": "code",
   "execution_count": 131,
   "metadata": {},
   "outputs": [
    {
     "name": "stdout",
     "output_type": "stream",
     "text": [
      "Defaulting to user installation because normal site-packages is not writeable\n",
      "Requirement already satisfied: requests in /Users/togawa/Library/Python/3.9/lib/python/site-packages (2.32.3)\n",
      "Requirement already satisfied: urllib3<3,>=1.21.1 in /Users/togawa/Library/Python/3.9/lib/python/site-packages (from requests) (2.3.0)\n",
      "Requirement already satisfied: idna<4,>=2.5 in /Users/togawa/Library/Python/3.9/lib/python/site-packages (from requests) (3.10)\n",
      "Requirement already satisfied: charset-normalizer<4,>=2 in /Users/togawa/Library/Python/3.9/lib/python/site-packages (from requests) (3.4.1)\n",
      "Requirement already satisfied: certifi>=2017.4.17 in /Users/togawa/Library/Python/3.9/lib/python/site-packages (from requests) (2025.1.31)\n",
      "\u001b[33mWARNING: You are using pip version 21.2.4; however, version 25.0 is available.\n",
      "You should consider upgrading via the '/Applications/Xcode.app/Contents/Developer/usr/bin/python3 -m pip install --upgrade pip' command.\u001b[0m\n",
      "Note: you may need to restart the kernel to use updated packages.\n"
     ]
    }
   ],
   "source": [
    "%pip install requests"
   ]
  },
  {
   "cell_type": "code",
   "execution_count": 188,
   "metadata": {},
   "outputs": [],
   "source": [
    "import time\n",
    "import requests\n",
    "import random\n",
    "import csv\n",
    "import subprocess\n",
    "import os"
   ]
  },
  {
   "cell_type": "markdown",
   "metadata": {},
   "source": [
    "## ユーザ用意"
   ]
  },
  {
   "cell_type": "markdown",
   "metadata": {},
   "source": [
    "### 必要なimport"
   ]
  },
  {
   "cell_type": "code",
   "execution_count": 166,
   "metadata": {},
   "outputs": [],
   "source": [
    "import uuid\n",
    "import string"
   ]
  },
  {
   "cell_type": "markdown",
   "metadata": {},
   "source": [
    "### 関数を定義"
   ]
  },
  {
   "cell_type": "code",
   "execution_count": 167,
   "metadata": {},
   "outputs": [],
   "source": [
    "def generate_random_hex():\n",
    "    return uuid.uuid4().hex  # 32文字の16進数を生成\n",
    "\n",
    "def generate_random_name(length=8):\n",
    "    return ''.join(random.choices(string.ascii_lowercase, k=length))\n",
    "\n",
    "def generate_sql_entry(id):\n",
    "    timestamp = \"2024-04-20 21:59:08.932\"\n",
    "    random_hex = generate_random_hex()\n",
    "    random_name = generate_random_name()\n",
    "    return f\"({id},'{timestamp}','{timestamp}',NULL,'{random_hex}','{random_name}','',1,1,2,NULL),\""
   ]
  },
  {
   "cell_type": "markdown",
   "metadata": {},
   "source": [
    "### 実行"
   ]
  },
  {
   "cell_type": "code",
   "execution_count": 186,
   "metadata": {},
   "outputs": [
    {
     "name": "stdout",
     "output_type": "stream",
     "text": [
      "users100.dumpを生成しました。\n",
      "users200.dumpを生成しました。\n",
      "users300.dumpを生成しました。\n",
      "users400.dumpを生成しました。\n",
      "users500.dumpを生成しました。\n",
      "users600.dumpを生成しました。\n",
      "users700.dumpを生成しました。\n",
      "users800.dumpを生成しました。\n",
      "users900.dumpを生成しました。\n",
      "users1000.dumpを生成しました。\n",
      "users1100.dumpを生成しました。\n",
      "users1200.dumpを生成しました。\n",
      "users1300.dumpを生成しました。\n",
      "users1400.dumpを生成しました。\n",
      "users1500.dumpを生成しました。\n",
      "users1600.dumpを生成しました。\n",
      "users1700.dumpを生成しました。\n",
      "users1800.dumpを生成しました。\n",
      "users1900.dumpを生成しました。\n",
      "users2000.dumpを生成しました。\n",
      "users2100.dumpを生成しました。\n",
      "users2200.dumpを生成しました。\n",
      "users2300.dumpを生成しました。\n",
      "users2400.dumpを生成しました。\n",
      "users2500.dumpを生成しました。\n",
      "users2600.dumpを生成しました。\n",
      "users2700.dumpを生成しました。\n",
      "users2800.dumpを生成しました。\n",
      "users2900.dumpを生成しました。\n",
      "users3000.dumpを生成しました。\n",
      "users3100.dumpを生成しました。\n",
      "users3200.dumpを生成しました。\n",
      "users3300.dumpを生成しました。\n",
      "users3400.dumpを生成しました。\n",
      "users3500.dumpを生成しました。\n",
      "users3600.dumpを生成しました。\n",
      "users3700.dumpを生成しました。\n",
      "users3800.dumpを生成しました。\n",
      "users3900.dumpを生成しました。\n",
      "users4000.dumpを生成しました。\n",
      "users4100.dumpを生成しました。\n",
      "users4200.dumpを生成しました。\n",
      "users4300.dumpを生成しました。\n",
      "users4400.dumpを生成しました。\n",
      "users4500.dumpを生成しました。\n",
      "users4600.dumpを生成しました。\n",
      "users4700.dumpを生成しました。\n",
      "users4800.dumpを生成しました。\n",
      "users4900.dumpを生成しました。\n",
      "users5000.dumpを生成しました。\n",
      "users5100.dumpを生成しました。\n",
      "users5200.dumpを生成しました。\n",
      "users5300.dumpを生成しました。\n",
      "users5400.dumpを生成しました。\n",
      "users5500.dumpを生成しました。\n",
      "users5600.dumpを生成しました。\n",
      "users5700.dumpを生成しました。\n",
      "users5800.dumpを生成しました。\n",
      "users5900.dumpを生成しました。\n",
      "users6000.dumpを生成しました。\n",
      "users6100.dumpを生成しました。\n",
      "users6200.dumpを生成しました。\n",
      "users6300.dumpを生成しました。\n",
      "users6400.dumpを生成しました。\n",
      "users6500.dumpを生成しました。\n",
      "users6600.dumpを生成しました。\n",
      "users6700.dumpを生成しました。\n",
      "users6800.dumpを生成しました。\n",
      "users6900.dumpを生成しました。\n",
      "users7000.dumpを生成しました。\n",
      "users7100.dumpを生成しました。\n",
      "users7200.dumpを生成しました。\n",
      "users7300.dumpを生成しました。\n",
      "users7400.dumpを生成しました。\n",
      "users7500.dumpを生成しました。\n",
      "users7600.dumpを生成しました。\n",
      "users7700.dumpを生成しました。\n",
      "users7800.dumpを生成しました。\n",
      "users7900.dumpを生成しました。\n",
      "users8000.dumpを生成しました。\n",
      "users8100.dumpを生成しました。\n",
      "users8200.dumpを生成しました。\n",
      "users8300.dumpを生成しました。\n",
      "users8400.dumpを生成しました。\n",
      "users8500.dumpを生成しました。\n",
      "users8600.dumpを生成しました。\n",
      "users8700.dumpを生成しました。\n",
      "users8800.dumpを生成しました。\n",
      "users8900.dumpを生成しました。\n",
      "users9000.dumpを生成しました。\n",
      "users9100.dumpを生成しました。\n",
      "users9200.dumpを生成しました。\n",
      "users9300.dumpを生成しました。\n",
      "users9400.dumpを生成しました。\n",
      "users9500.dumpを生成しました。\n",
      "users9600.dumpを生成しました。\n",
      "users9700.dumpを生成しました。\n",
      "users9800.dumpを生成しました。\n",
      "users9900.dumpを生成しました。\n",
      "users10000.dumpを生成しました。\n"
     ]
    }
   ],
   "source": [
    "for i in range(100):\n",
    "  users_num = 100 * (i+1)\n",
    "  # SQLファイルの初期部分\n",
    "  sql_head = f\"\"\"DROP TABLE IF EXISTS users;\n",
    "  CREATE TABLE users (\n",
    "    id bigint unsigned NOT NULL AUTO_INCREMENT,\n",
    "    created_at datetime(3) DEFAULT NULL,\n",
    "    updated_at datetime(3) DEFAULT NULL,\n",
    "    deleted_at datetime(3) DEFAULT NULL,\n",
    "    uuid longtext,\n",
    "    name longtext,\n",
    "    email longtext,\n",
    "    role bigint DEFAULT NULL,\n",
    "    beacon_id bigint DEFAULT NULL,\n",
    "    community_id bigint DEFAULT NULL,\n",
    "    private_key longtext,\n",
    "    PRIMARY KEY (id),\n",
    "    KEY idx_users_deleted_at (deleted_at)\n",
    "  ) ENGINE=InnoDB AUTO_INCREMENT={users_num} DEFAULT CHARSET=utf8mb3;\n",
    "\n",
    "  LOCK TABLES users WRITE;\n",
    "  INSERT INTO users VALUES \n",
    "  \"\"\"\n",
    "\n",
    "  sql_footer = f\"\"\"\n",
    "  ({users_num},'2024-04-20 21:59:08.932','2024-11-26 15:57:08.286',NULL,'8ebc21144abdba0db7c6ff0a00200016','togawa','toge7113@gmail.com',2,1,2,NULL);\n",
    "  UNLOCK TABLES;\n",
    "  \"\"\"\n",
    "\n",
    "  # 例として5つのデータを生成\n",
    "  entries = [generate_sql_entry(i) for i in range(1, users_num)]\n",
    "\n",
    "  # SQL出力\n",
    "  sql_body = \"\"\n",
    "  sql_body += sql_body + \"\\n\".join(entries)\n",
    "  sql_content = sql_head + sql_body + sql_footer\n",
    "  # print(sql_content)\n",
    "\n",
    "  # ファイルに書き込み\n",
    "  with open(f\"test_users/uuid_method/users{users_num}.dump\", \"w\", encoding=\"utf-8\") as f:\n",
    "      f.write(sql_content)\n",
    "\n",
    "  print(f\"users{users_num}.dumpを生成しました。\")"
   ]
  },
  {
   "cell_type": "markdown",
   "metadata": {},
   "source": [
    "# API実行時間計測"
   ]
  },
  {
   "cell_type": "code",
   "execution_count": 138,
   "metadata": {},
   "outputs": [],
   "source": [
    "url = \"http://localhost:8082/api/v1/stayers\"\n",
    "baseURL = \"http://localhost:8082\"\n",
    "\n",
    "# ヘッダー\n",
    "headers = {\n",
    "    \"Content-Type\": \"application/json\"\n",
    "}"
   ]
  },
  {
   "cell_type": "markdown",
   "metadata": {},
   "source": [
    "## ユーザ登録用関数の定義（APIを用いて）"
   ]
  },
  {
   "cell_type": "markdown",
   "metadata": {},
   "source": [
    "従来手法のユーザの登録"
   ]
  },
  {
   "cell_type": "code",
   "execution_count": 195,
   "metadata": {},
   "outputs": [],
   "source": [
    "def restoreUsersTable(numUsers):\n",
    "  # 変数の値を指定\n",
    "  db_container_name = \"vol_mysql\"\n",
    "  mysql_password = \"root\"\n",
    "  db_name = \"app\"\n",
    "  dump_file = f\"test_users/uuid_method/users{numUsers}.dump\"\n",
    "\n",
    "  # 実行するコマンド\n",
    "  command = f\"docker exec -i {db_container_name} mysql -uroot -p{mysql_password} {db_name} < {dump_file}\"\n",
    "  # シェルスクリプトを実行\n",
    "  result = subprocess.run(command, shell=True, capture_output=True, text=True, env=os.environ)\n",
    "  print(result)\n",
    "  print(\"ユーザ登録完了\")"
   ]
  },
  {
   "cell_type": "code",
   "execution_count": 197,
   "metadata": {},
   "outputs": [
    {
     "name": "stdout",
     "output_type": "stream",
     "text": [
      "CompletedProcess(args='docker exec -i vol_mysql mysql -uroot -proot app < test_users/uuid_method/users200.dump', returncode=0, stdout='', stderr='mysql: [Warning] Using a password on the command line interface can be insecure.\\n')\n",
      "ユーザ登録完了\n"
     ]
    }
   ],
   "source": [
    "# シェルスクリプトを実行\n",
    "restoreUsersTable(200)"
   ]
  },
  {
   "cell_type": "markdown",
   "metadata": {},
   "source": [
    "## リクエストを定義"
   ]
  },
  {
   "cell_type": "markdown",
   "metadata": {},
   "source": [
    "### ボディデータを設定する関数を定義"
   ]
  },
  {
   "cell_type": "code",
   "execution_count": 163,
   "metadata": {},
   "outputs": [],
   "source": [
    "# 従来手法の未登録のユーザをリクエストに含める\n",
    "def getRequestBasicNonRegisterdUser(numUsers):\n",
    "    data = {\n",
    "        \"beacons\": [],\n",
    "        \"roomId\": 1\n",
    "    }\n",
    "    for i in range(numUsers):\n",
    "        hexString = ''.join(random.choices('0123456789abcdef', k=32))\n",
    "        # ボディデータ\n",
    "        data[\"beacons\"].append({\n",
    "            \"uuid\": hexString,\n",
    "            \"rssi\": -49\n",
    "        })\n",
    "    print(data)\n",
    "    return data\n",
    "\n",
    "# 従来手法の登録済みのユーザをリクエストに含める\n",
    "def getRequestBasicRegisterdUser(numUsers):\n",
    "    responseUsers = requests.get(baseURL+\"/api/v1/users/extended\")\n",
    "    users=responseUsers.json()\n",
    "    # ボディデータ\n",
    "    data = {\n",
    "        \"beacons\": [],\n",
    "        \"roomId\": 1\n",
    "    }\n",
    "    for i in range(numUsers):\n",
    "        randomUser = random.choice(users)  # ランダムに 1 人選択\n",
    "        # ボディデータ\n",
    "        data[\"beacons\"].append({\n",
    "            \"uuid\": randomUser[\"uuid\"],\n",
    "            \"rssi\": -49\n",
    "        })\n",
    "    print(data)\n",
    "    return data"
   ]
  },
  {
   "cell_type": "markdown",
   "metadata": {},
   "source": [
    "## 計測"
   ]
  },
  {
   "cell_type": "markdown",
   "metadata": {},
   "source": [
    "### 従来手法での計測"
   ]
  },
  {
   "cell_type": "code",
   "execution_count": 198,
   "metadata": {},
   "outputs": [
    {
     "name": "stdout",
     "output_type": "stream",
     "text": [
      "start bench\n",
      "1/100回目\n",
      "CompletedProcess(args='docker exec -i vol_mysql mysql -uroot -proot app < test_users/uuid_method/users100.dump', returncode=0, stdout='', stderr='mysql: [Warning] Using a password on the command line interface can be insecure.\\n')\n",
      "ユーザ登録完了\n",
      "{'beacons': [{'uuid': '5798707ff96841a2b9a9546a14f94811', 'rssi': -49}, {'uuid': '5446f2fa602f41b6a94524ec38c3f9d2', 'rssi': -49}, {'uuid': '05dff7af4c28479a97f81e8b7b191e9f', 'rssi': -49}, {'uuid': 'ca03623f2a1949ca80bc9dfb9cc92a04', 'rssi': -49}, {'uuid': 'f45d2be099214981b11e4d3fcdb1d5e7', 'rssi': -49}, {'uuid': '8ebc21144abdba0db7c6ff0a00200016', 'rssi': -49}, {'uuid': 'd78e8f2c67aa4f23a4ab299b5e289907', 'rssi': -49}, {'uuid': '692318d9998e4686aee7227f479e2444', 'rssi': -49}, {'uuid': 'c0e1a3d66f8b463d84243e636764e021', 'rssi': -49}, {'uuid': '2a6d9368798449519f03a461c73626d8', 'rssi': -49}, {'uuid': '6b1bda15904344ff8a4eb4543d0514a5', 'rssi': -49}, {'uuid': '7e50f07fffff4df29d5364ce1c11c5c2', 'rssi': -49}, {'uuid': '2d4406a1f99047f7ad57bb2b604fbaff', 'rssi': -49}, {'uuid': '43250c2ac5a144ac87d78f88ae215c70', 'rssi': -49}, {'uuid': '8fbf209f0bfb46eabbd46890aadd325d', 'rssi': -49}, {'uuid': '32794ec0a97b440881c73d7f6098d870', 'rssi': -49}, {'uuid': 'f04e46d4a9b6478b9bf6133fb418aa0c', 'rssi': -49}, {'uuid': 'cb77bc4123214d728fa8ac4c4bf8d03c', 'rssi': -49}, {'uuid': 'e4c9f42a6ab74f22a572980bba5212ca', 'rssi': -49}, {'uuid': '511930c89e29443eb27b1e941def58e7', 'rssi': -49}], 'roomId': 1}\n",
      "{'beacons': [{'uuid': '1239c8992ed550e899afe3904f0b8a88', 'rssi': -49}, {'uuid': 'f078f7ecddd91721edec0e1f935c7506', 'rssi': -49}, {'uuid': '92802e91a639a41bbfe74bd470c7b5fe', 'rssi': -49}, {'uuid': 'ce62adb4782c2aeb0e6a8b5abee4892b', 'rssi': -49}, {'uuid': '0b5811a932489d0a2263847e3c69f649', 'rssi': -49}, {'uuid': 'ed5cb5cef6356b61e4a3d11acfda10b3', 'rssi': -49}, {'uuid': '1fc2cac7d4c3501c6330d8f7232e6000', 'rssi': -49}, {'uuid': 'f1019220a74ffa7ed21429d713dec002', 'rssi': -49}, {'uuid': '444e306aa4cbb036e40c882bb12fcc8d', 'rssi': -49}, {'uuid': 'b622d4fba9046f651cc382cd1a102de4', 'rssi': -49}, {'uuid': 'dedaa7775d64e46b0c6a71f545de6b1c', 'rssi': -49}, {'uuid': '6d71b539be3b19e75c581ebc85ee788d', 'rssi': -49}, {'uuid': '0d696bdf0c194cac66103ce305acda91', 'rssi': -49}, {'uuid': '92704390127e131d82a625d6cb002631', 'rssi': -49}, {'uuid': 'e9811f2a42186eb76293a41dad059bcc', 'rssi': -49}, {'uuid': '1f92518b3ed4704cf34b45a7947689b7', 'rssi': -49}, {'uuid': '98933e2aef20fbfa8e1923bc31205f16', 'rssi': -49}, {'uuid': '42053570247064d2c953f9219178baa0', 'rssi': -49}, {'uuid': 'ebb31b04ba0c29df21634d8f491e83e0', 'rssi': -49}, {'uuid': '764c089f2c44234636822c0624afc174', 'rssi': -49}], 'roomId': 1}\n",
      "2/100回目\n",
      "CompletedProcess(args='docker exec -i vol_mysql mysql -uroot -proot app < test_users/uuid_method/users200.dump', returncode=0, stdout='', stderr='mysql: [Warning] Using a password on the command line interface can be insecure.\\n')\n",
      "ユーザ登録完了\n",
      "{'beacons': [{'uuid': 'af47d47fe3f84fc8a2cc0fe1f48aa739', 'rssi': -49}, {'uuid': '3a7e68776c4848d9925baa5f5febd9d4', 'rssi': -49}, {'uuid': 'c662cf8a28814dfdaab7ad501f64a756', 'rssi': -49}, {'uuid': '5a5bbd954cc446b2b3c80547dca31ca1', 'rssi': -49}, {'uuid': '65b0111a0e8d4a7abba830c936af41f7', 'rssi': -49}, {'uuid': 'b7d538c2d6114bbfa2c533855bbb2091', 'rssi': -49}, {'uuid': '593c851c1b2e44298e9fee918bdedd61', 'rssi': -49}, {'uuid': '623d9ae68b4040a69775393e7dfa0eee', 'rssi': -49}, {'uuid': '4f3931937b7144ef9eed13a01acde27d', 'rssi': -49}, {'uuid': '2ac6735fec84460bb24d13a69b1589f7', 'rssi': -49}, {'uuid': 'a80223396796420f919d4a0a1deaaf93', 'rssi': -49}, {'uuid': '2adebd9dc7274ee49d04ec60b83a0cc3', 'rssi': -49}, {'uuid': '47ec1a6437504ee48a78da27b3a7db50', 'rssi': -49}, {'uuid': '01410790b47d4795a19e9f37cc080684', 'rssi': -49}, {'uuid': 'c6ce44973729484f98300538a1f3aebb', 'rssi': -49}, {'uuid': 'c9a1d58c39b24c8fae31150469c6f73b', 'rssi': -49}, {'uuid': '4c4434f2b5544909b47c36df9c769247', 'rssi': -49}, {'uuid': '2b55efc0df334f968f68df8d9a1beb92', 'rssi': -49}, {'uuid': '40c378d2961d4e11b9a5f32a3047ac9e', 'rssi': -49}, {'uuid': 'd49fa9449d0f43b8a6153dd56cd99884', 'rssi': -49}], 'roomId': 1}\n",
      "{'beacons': [{'uuid': '1832226ee672e4c19f6995205d05c3ca', 'rssi': -49}, {'uuid': '8067c113322feb3fe875ba7de13ba808', 'rssi': -49}, {'uuid': 'fab99b298e1c074d039717c65f8e9f22', 'rssi': -49}, {'uuid': 'e16505f481e5f2a6c85fd9200c110068', 'rssi': -49}, {'uuid': 'bcff2c5939a35ac2d1c1e5178ddb6636', 'rssi': -49}, {'uuid': '683e99387c2d6f1d65c082e991279606', 'rssi': -49}, {'uuid': '36ab8b08f6526c4bb010090014eb5465', 'rssi': -49}, {'uuid': '59e1cd88f617642a4ef63e891cedc114', 'rssi': -49}, {'uuid': '1fcffa464445d7ee349c3954fe30b69f', 'rssi': -49}, {'uuid': 'f16cf8e6c16c7161f54e30b75631c160', 'rssi': -49}, {'uuid': 'cdf8e4e53e66efce0f9ebfead918fb22', 'rssi': -49}, {'uuid': '5a69ee1cddee38edacdb675c1c88e9b7', 'rssi': -49}, {'uuid': '64fb88351f57f2a503fd3655ec56d372', 'rssi': -49}, {'uuid': '037cf4a4ca93fed9dd56f61ffb4b4c86', 'rssi': -49}, {'uuid': '0c4857899c5835ea44c464131f09904d', 'rssi': -49}, {'uuid': 'd999fc6e5d5859f8cff3ca0f8ae2bd7e', 'rssi': -49}, {'uuid': 'c088d552d5555db83ef1fcf88881d0ae', 'rssi': -49}, {'uuid': 'dc373c5ec7b4cd221df461d5fec656d2', 'rssi': -49}, {'uuid': 'a0d354d43d0a35e1034703e8e99ec6b6', 'rssi': -49}, {'uuid': '03cd70e356090fa6633d5a2b7b2612d8', 'rssi': -49}], 'roomId': 1}\n",
      "3/100回目\n",
      "CompletedProcess(args='docker exec -i vol_mysql mysql -uroot -proot app < test_users/uuid_method/users300.dump', returncode=0, stdout='', stderr='mysql: [Warning] Using a password on the command line interface can be insecure.\\n')\n",
      "ユーザ登録完了\n",
      "{'beacons': [{'uuid': '3608a128b22f4f16b9b4e6da7ccbdaa9', 'rssi': -49}, {'uuid': '95e25671d620400e81c5ac442a038726', 'rssi': -49}, {'uuid': 'fbf8e29b682941e6ad6185ead4640ad4', 'rssi': -49}, {'uuid': 'e2654ac04c2343719a28eb4f97a1ed95', 'rssi': -49}, {'uuid': '1c183c03b51d42818d6e3e9881b3a4ea', 'rssi': -49}, {'uuid': 'b8c24426aa8a4e6688b8c5a6554df4fe', 'rssi': -49}, {'uuid': '1d1c692eef0f4d45b0ab8804a74aa9a0', 'rssi': -49}, {'uuid': '401cfa3132fc4509ab8d5a49c8bf3662', 'rssi': -49}, {'uuid': '10af5df141bb4668a75c162bcaf8d74c', 'rssi': -49}, {'uuid': 'd1a12a6927b1461dbcd52d5bc9c06506', 'rssi': -49}, {'uuid': '7358cc28271a4905959721a2c27e31dd', 'rssi': -49}, {'uuid': 'e79b38f975534a86b214591216c85ccb', 'rssi': -49}, {'uuid': '9b7b9fade80f4b0d8fe940caf811c759', 'rssi': -49}, {'uuid': '932db6c68b9d4b109c6b15292158c6e1', 'rssi': -49}, {'uuid': '29c513e014d343af9ceaccf6d83937f8', 'rssi': -49}, {'uuid': '6a82ae9d92bb4e3f9cbe54f16facfe4d', 'rssi': -49}, {'uuid': '232a1a4f0eb048dd85c3fd33fab29410', 'rssi': -49}, {'uuid': '4675c54788f34224a385f9e66e656906', 'rssi': -49}, {'uuid': '0c7262ea5e2f4edcb46a4d7ef86fb402', 'rssi': -49}, {'uuid': '581c71e9d44847b68d299676055cc966', 'rssi': -49}], 'roomId': 1}\n",
      "{'beacons': [{'uuid': 'dfc4b90b536ea8d3ad18316e3b8cf0c6', 'rssi': -49}, {'uuid': '78ac0a0fc75437ccb84ae24852a09b2e', 'rssi': -49}, {'uuid': '08069e70ee18696bdca6155ee6adb99b', 'rssi': -49}, {'uuid': '6d6afd321117b025eef00c35e74496cb', 'rssi': -49}, {'uuid': '0f852a3f63ee15d124f3dae554f8bff9', 'rssi': -49}, {'uuid': '6e814e8f832dca112b8775b1b1f17edb', 'rssi': -49}, {'uuid': '4ca2fe9fa5a9648b2fcc16a578e22949', 'rssi': -49}, {'uuid': '267d48946b733e356a04a1c3d501e655', 'rssi': -49}, {'uuid': '00ebda840e752561e7ec42fd8d48775a', 'rssi': -49}, {'uuid': 'c929c12f36465aabe38811e715b2dfbf', 'rssi': -49}, {'uuid': '6c248af03acd18ae7046a815bdbf933a', 'rssi': -49}, {'uuid': 'a37a055868a2a1e07d43948c6288d0fc', 'rssi': -49}, {'uuid': 'ecfa39325da5ddec6fc5381b5d76a4cf', 'rssi': -49}, {'uuid': '3a02001ad1a8fe96ec6436f3578ca706', 'rssi': -49}, {'uuid': '3b320828e794227f7d3aea94056d95c8', 'rssi': -49}, {'uuid': 'ce9a857a945372e5195c501807c013d6', 'rssi': -49}, {'uuid': 'c0190ac486469f7402b9ac77844d01ad', 'rssi': -49}, {'uuid': '571229ff53594b602f9fb23ef0c95950', 'rssi': -49}, {'uuid': '2ad214f4342278685fba906f4e0de91e', 'rssi': -49}, {'uuid': 'ce837b4aadef455978122c87e82403f2', 'rssi': -49}], 'roomId': 1}\n",
      "4/100回目\n",
      "CompletedProcess(args='docker exec -i vol_mysql mysql -uroot -proot app < test_users/uuid_method/users400.dump', returncode=0, stdout='', stderr='mysql: [Warning] Using a password on the command line interface can be insecure.\\n')\n",
      "ユーザ登録完了\n",
      "{'beacons': [{'uuid': 'bc256ac36d5d4b5ea1c24f532c7af19c', 'rssi': -49}, {'uuid': '3e0b9e2550364c8cb06f6d1a0374c48b', 'rssi': -49}, {'uuid': 'cac17e49137b48629d137ead98d4ba62', 'rssi': -49}, {'uuid': '880f41da48494c3da9574cab9e908372', 'rssi': -49}, {'uuid': '43168464e3184b9caa8a43366b4e6662', 'rssi': -49}, {'uuid': 'd273808040d94807aec48d96210716f4', 'rssi': -49}, {'uuid': '11daabdb139343d3a63ea04b2b1eb6fe', 'rssi': -49}, {'uuid': '9c0a594cc91047da80080249ced4ac41', 'rssi': -49}, {'uuid': '044c43599dd5415c8090b6ea935d4bec', 'rssi': -49}, {'uuid': '1c16182eb50043a2b8e2a69831f9591d', 'rssi': -49}, {'uuid': '59dc9d1e1b4449efb9a3dc06638a05d9', 'rssi': -49}, {'uuid': 'a06b40d334624b9898624c04467efb33', 'rssi': -49}, {'uuid': 'c96bf0d02d224ec596b219fece1bcd2a', 'rssi': -49}, {'uuid': 'a21244fbd33f4246afabe98a073ce13c', 'rssi': -49}, {'uuid': '8d416cabe741408fa8b43a2fc168ca88', 'rssi': -49}, {'uuid': 'a9d42a55fa9142dda9f2d732df5cb89e', 'rssi': -49}, {'uuid': 'e5440eaa0a48462f8f9189f8c4a1f616', 'rssi': -49}, {'uuid': 'd04c0424074e4266bd733916ad2a9b31', 'rssi': -49}, {'uuid': '73ef6e2823ba40f1810c6f31647c3046', 'rssi': -49}, {'uuid': 'd26b3013e94546a7a7354616b7967050', 'rssi': -49}], 'roomId': 1}\n",
      "{'beacons': [{'uuid': '00f1b2f02a9f132cd575571bd39ca9a8', 'rssi': -49}, {'uuid': 'd61f3ad006e519718d950c60b6b1ea35', 'rssi': -49}, {'uuid': 'd3d920a0ccfda7c6e198c7b3149095a2', 'rssi': -49}, {'uuid': '74592098efa1fc15615754a812fe1f77', 'rssi': -49}, {'uuid': '3f24a4a4f821e48af32c3285f622dcdb', 'rssi': -49}, {'uuid': '328b7e65624e83bd287d27f3fa9e857b', 'rssi': -49}, {'uuid': '2628f56077878f62817c2c1d224b2fe7', 'rssi': -49}, {'uuid': '217b7d3dddcd5a0e55a499435d233d0f', 'rssi': -49}, {'uuid': '50b431334100d35cdfb5b81e4476dc3c', 'rssi': -49}, {'uuid': 'f1894b53cb4162e23622d3a0ea4bc83e', 'rssi': -49}, {'uuid': 'e4d5003cb7f9cf96783f4b18d85982cd', 'rssi': -49}, {'uuid': '511ba130b8064d0e1e37c376b524ab4f', 'rssi': -49}, {'uuid': '8ae463cd444d7fbd9848d1b5f7f13081', 'rssi': -49}, {'uuid': 'd4f73a39d54e4a4987f13692a61d4ea4', 'rssi': -49}, {'uuid': '4a8c763c1a6fb5e609c71077b95d9e4d', 'rssi': -49}, {'uuid': 'fa1fd6180cd6a92a607f21b489bf281f', 'rssi': -49}, {'uuid': '8b64afd33b2128d54164db1cd8de7f07', 'rssi': -49}, {'uuid': '4d1dcdf5bf623a05969f0d3188181d2b', 'rssi': -49}, {'uuid': '0e79a6c46e9d568059b85ed419558d53', 'rssi': -49}, {'uuid': '66073c218e730172a62c9f7e05c880ba', 'rssi': -49}], 'roomId': 1}\n"
     ]
    }
   ],
   "source": [
    "FILE_PATH = \"out/basic01.csv\"\n",
    "with open(FILE_PATH, 'w') as f:\n",
    "  writer = csv.writer(f)\n",
    "  writer.writerow(['users', 'time', 'user_state', 'status'])\n",
    "\n",
    "print(\"start bench\")\n",
    "\n",
    "for i in range(4):\n",
    "  print(str(i+1) + \"/100回目\")\n",
    "  # 100人ランダムな従来ユーザを登録する（PythonでWebAPIを用いて）\n",
    "  restoreUsersTable(100*(i+1))\n",
    "\n",
    "  # ランダムなユーザ(登録済み)を20人POSTで投げる\n",
    "  start = time.perf_counter()\n",
    "  response = requests.post(url, json=getRequestBasicRegisterdUser(20), headers=headers)\n",
    "  end = time.perf_counter()\n",
    "  with open(FILE_PATH, 'a', newline='') as f:\n",
    "    writer = csv.writer(f)\n",
    "    writer.writerow([100*(i+1), end - start, 'Registerd', response.json()])  # 1行追加\n",
    "\n",
    "  # ランダムなユーザ(未登録)を20人POSTで投げる\n",
    "  start = time.perf_counter()\n",
    "  response = requests.post(url, json=getRequestBasicNonRegisterdUser(20), headers=headers)\n",
    "  end = time.perf_counter()\n",
    "  with open(FILE_PATH, 'a', newline='') as f:\n",
    "    writer = csv.writer(f)\n",
    "    writer.writerow([100*(i+1), end - start, 'NonRegisterd', response.json()])  # 1行追加\n",
    "\n",
    "\n",
    "# start = time.perf_counter()\n",
    "\n",
    "# response = requests.post(url, json=getRequestBasicNonRegisterdUser(10), headers=headers)\n",
    "\n",
    "# end = time.perf_counter()\n",
    "# print(response.json())\n",
    "# print(\"end bench\")\n",
    "# print(\"実行時間: \" + str(end - start) + \" sec\")"
   ]
  },
  {
   "cell_type": "markdown",
   "metadata": {},
   "source": [
    "### 滞在情報をリセット"
   ]
  },
  {
   "cell_type": "code",
   "execution_count": 96,
   "metadata": {},
   "outputs": [],
   "source": [
    "# ボディデータ\n",
    "data = {\n",
    "    \"beacons\": [\n",
    "    ],\n",
    "    \"roomId\": 1\n",
    "}\n",
    "response = requests.post(url, json=data, headers=headers)"
   ]
  }
 ],
 "metadata": {
  "kernelspec": {
   "display_name": "Python 3",
   "language": "python",
   "name": "python3"
  },
  "language_info": {
   "codemirror_mode": {
    "name": "ipython",
    "version": 3
   },
   "file_extension": ".py",
   "mimetype": "text/x-python",
   "name": "python",
   "nbconvert_exporter": "python",
   "pygments_lexer": "ipython3",
   "version": "3.9.6"
  }
 },
 "nbformat": 4,
 "nbformat_minor": 2
}
