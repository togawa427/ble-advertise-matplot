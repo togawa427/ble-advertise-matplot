{
 "cells": [
  {
   "cell_type": "markdown",
   "metadata": {},
   "source": [
    "実装にあたってこちらの記事を参考にさせていただきました  \n",
    "[Zenn 歩行時の加速度,角速度データから歩行軌跡を描いてみた - Beyond Toyama](https://zenn.dev/happy663/articles/1a0abc285b3a33)"
   ]
  },
  {
   "cell_type": "markdown",
   "metadata": {},
   "source": [
    "# 事前準備"
   ]
  },
  {
   "cell_type": "markdown",
   "metadata": {},
   "source": [
    "## ライブラリのインポート"
   ]
  },
  {
   "cell_type": "code",
   "execution_count": 131,
   "metadata": {},
   "outputs": [
    {
     "name": "stdout",
     "output_type": "stream",
     "text": [
      "Defaulting to user installation because normal site-packages is not writeable\n",
      "Requirement already satisfied: requests in /Users/togawa/Library/Python/3.9/lib/python/site-packages (2.32.3)\n",
      "Requirement already satisfied: urllib3<3,>=1.21.1 in /Users/togawa/Library/Python/3.9/lib/python/site-packages (from requests) (2.3.0)\n",
      "Requirement already satisfied: idna<4,>=2.5 in /Users/togawa/Library/Python/3.9/lib/python/site-packages (from requests) (3.10)\n",
      "Requirement already satisfied: charset-normalizer<4,>=2 in /Users/togawa/Library/Python/3.9/lib/python/site-packages (from requests) (3.4.1)\n",
      "Requirement already satisfied: certifi>=2017.4.17 in /Users/togawa/Library/Python/3.9/lib/python/site-packages (from requests) (2025.1.31)\n",
      "\u001b[33mWARNING: You are using pip version 21.2.4; however, version 25.0 is available.\n",
      "You should consider upgrading via the '/Applications/Xcode.app/Contents/Developer/usr/bin/python3 -m pip install --upgrade pip' command.\u001b[0m\n",
      "Note: you may need to restart the kernel to use updated packages.\n"
     ]
    }
   ],
   "source": [
    "%pip install requests"
   ]
  },
  {
   "cell_type": "code",
   "execution_count": 188,
   "metadata": {},
   "outputs": [],
   "source": [
    "import time\n",
    "import requests\n",
    "import random\n",
    "import csv\n",
    "import subprocess\n",
    "import os"
   ]
  },
  {
   "cell_type": "markdown",
   "metadata": {},
   "source": [
    "## ユーザ用意"
   ]
  },
  {
   "cell_type": "markdown",
   "metadata": {},
   "source": [
    "### 必要なimport"
   ]
  },
  {
   "cell_type": "code",
   "execution_count": 166,
   "metadata": {},
   "outputs": [],
   "source": [
    "import uuid\n",
    "import string"
   ]
  },
  {
   "cell_type": "markdown",
   "metadata": {},
   "source": [
    "### 関数を定義"
   ]
  },
  {
   "cell_type": "code",
   "execution_count": 167,
   "metadata": {},
   "outputs": [],
   "source": [
    "def generate_random_hex():\n",
    "    return uuid.uuid4().hex  # 32文字の16進数を生成\n",
    "\n",
    "def generate_random_name(length=8):\n",
    "    return ''.join(random.choices(string.ascii_lowercase, k=length))\n",
    "\n",
    "def generate_sql_entry(id):\n",
    "    timestamp = \"2024-04-20 21:59:08.932\"\n",
    "    random_hex = generate_random_hex()\n",
    "    random_name = generate_random_name()\n",
    "    return f\"({id},'{timestamp}','{timestamp}',NULL,'{random_hex}','{random_name}','',1,1,2,NULL),\""
   ]
  },
  {
   "cell_type": "markdown",
   "metadata": {},
   "source": [
    "### 実行"
   ]
  },
  {
   "cell_type": "code",
   "execution_count": 186,
   "metadata": {},
   "outputs": [
    {
     "name": "stdout",
     "output_type": "stream",
     "text": [
      "users100.dumpを生成しました。\n",
      "users200.dumpを生成しました。\n",
      "users300.dumpを生成しました。\n",
      "users400.dumpを生成しました。\n",
      "users500.dumpを生成しました。\n",
      "users600.dumpを生成しました。\n",
      "users700.dumpを生成しました。\n",
      "users800.dumpを生成しました。\n",
      "users900.dumpを生成しました。\n",
      "users1000.dumpを生成しました。\n",
      "users1100.dumpを生成しました。\n",
      "users1200.dumpを生成しました。\n",
      "users1300.dumpを生成しました。\n",
      "users1400.dumpを生成しました。\n",
      "users1500.dumpを生成しました。\n",
      "users1600.dumpを生成しました。\n",
      "users1700.dumpを生成しました。\n",
      "users1800.dumpを生成しました。\n",
      "users1900.dumpを生成しました。\n",
      "users2000.dumpを生成しました。\n",
      "users2100.dumpを生成しました。\n",
      "users2200.dumpを生成しました。\n",
      "users2300.dumpを生成しました。\n",
      "users2400.dumpを生成しました。\n",
      "users2500.dumpを生成しました。\n",
      "users2600.dumpを生成しました。\n",
      "users2700.dumpを生成しました。\n",
      "users2800.dumpを生成しました。\n",
      "users2900.dumpを生成しました。\n",
      "users3000.dumpを生成しました。\n",
      "users3100.dumpを生成しました。\n",
      "users3200.dumpを生成しました。\n",
      "users3300.dumpを生成しました。\n",
      "users3400.dumpを生成しました。\n",
      "users3500.dumpを生成しました。\n",
      "users3600.dumpを生成しました。\n",
      "users3700.dumpを生成しました。\n",
      "users3800.dumpを生成しました。\n",
      "users3900.dumpを生成しました。\n",
      "users4000.dumpを生成しました。\n",
      "users4100.dumpを生成しました。\n",
      "users4200.dumpを生成しました。\n",
      "users4300.dumpを生成しました。\n",
      "users4400.dumpを生成しました。\n",
      "users4500.dumpを生成しました。\n",
      "users4600.dumpを生成しました。\n",
      "users4700.dumpを生成しました。\n",
      "users4800.dumpを生成しました。\n",
      "users4900.dumpを生成しました。\n",
      "users5000.dumpを生成しました。\n",
      "users5100.dumpを生成しました。\n",
      "users5200.dumpを生成しました。\n",
      "users5300.dumpを生成しました。\n",
      "users5400.dumpを生成しました。\n",
      "users5500.dumpを生成しました。\n",
      "users5600.dumpを生成しました。\n",
      "users5700.dumpを生成しました。\n",
      "users5800.dumpを生成しました。\n",
      "users5900.dumpを生成しました。\n",
      "users6000.dumpを生成しました。\n",
      "users6100.dumpを生成しました。\n",
      "users6200.dumpを生成しました。\n",
      "users6300.dumpを生成しました。\n",
      "users6400.dumpを生成しました。\n",
      "users6500.dumpを生成しました。\n",
      "users6600.dumpを生成しました。\n",
      "users6700.dumpを生成しました。\n",
      "users6800.dumpを生成しました。\n",
      "users6900.dumpを生成しました。\n",
      "users7000.dumpを生成しました。\n",
      "users7100.dumpを生成しました。\n",
      "users7200.dumpを生成しました。\n",
      "users7300.dumpを生成しました。\n",
      "users7400.dumpを生成しました。\n",
      "users7500.dumpを生成しました。\n",
      "users7600.dumpを生成しました。\n",
      "users7700.dumpを生成しました。\n",
      "users7800.dumpを生成しました。\n",
      "users7900.dumpを生成しました。\n",
      "users8000.dumpを生成しました。\n",
      "users8100.dumpを生成しました。\n",
      "users8200.dumpを生成しました。\n",
      "users8300.dumpを生成しました。\n",
      "users8400.dumpを生成しました。\n",
      "users8500.dumpを生成しました。\n",
      "users8600.dumpを生成しました。\n",
      "users8700.dumpを生成しました。\n",
      "users8800.dumpを生成しました。\n",
      "users8900.dumpを生成しました。\n",
      "users9000.dumpを生成しました。\n",
      "users9100.dumpを生成しました。\n",
      "users9200.dumpを生成しました。\n",
      "users9300.dumpを生成しました。\n",
      "users9400.dumpを生成しました。\n",
      "users9500.dumpを生成しました。\n",
      "users9600.dumpを生成しました。\n",
      "users9700.dumpを生成しました。\n",
      "users9800.dumpを生成しました。\n",
      "users9900.dumpを生成しました。\n",
      "users10000.dumpを生成しました。\n"
     ]
    }
   ],
   "source": [
    "for i in range(100):\n",
    "  users_num = 100 * (i+1)\n",
    "  # SQLファイルの初期部分\n",
    "  sql_head = f\"\"\"DROP TABLE IF EXISTS users;\n",
    "  CREATE TABLE users (\n",
    "    id bigint unsigned NOT NULL AUTO_INCREMENT,\n",
    "    created_at datetime(3) DEFAULT NULL,\n",
    "    updated_at datetime(3) DEFAULT NULL,\n",
    "    deleted_at datetime(3) DEFAULT NULL,\n",
    "    uuid longtext,\n",
    "    name longtext,\n",
    "    email longtext,\n",
    "    role bigint DEFAULT NULL,\n",
    "    beacon_id bigint DEFAULT NULL,\n",
    "    community_id bigint DEFAULT NULL,\n",
    "    private_key longtext,\n",
    "    PRIMARY KEY (id),\n",
    "    KEY idx_users_deleted_at (deleted_at)\n",
    "  ) ENGINE=InnoDB AUTO_INCREMENT={users_num} DEFAULT CHARSET=utf8mb3;\n",
    "\n",
    "  LOCK TABLES users WRITE;\n",
    "  INSERT INTO users VALUES \n",
    "  \"\"\"\n",
    "\n",
    "  sql_footer = f\"\"\"\n",
    "  ({users_num},'2024-04-20 21:59:08.932','2024-11-26 15:57:08.286',NULL,'8ebc21144abdba0db7c6ff0a00200016','togawa','toge7113@gmail.com',2,1,2,NULL);\n",
    "  UNLOCK TABLES;\n",
    "  \"\"\"\n",
    "\n",
    "  # 例として5つのデータを生成\n",
    "  entries = [generate_sql_entry(i) for i in range(1, users_num)]\n",
    "\n",
    "  # SQL出力\n",
    "  sql_body = \"\"\n",
    "  sql_body += sql_body + \"\\n\".join(entries)\n",
    "  sql_content = sql_head + sql_body + sql_footer\n",
    "  # print(sql_content)\n",
    "\n",
    "  # ファイルに書き込み\n",
    "  with open(f\"test_users/uuid_method/users{users_num}.dump\", \"w\", encoding=\"utf-8\") as f:\n",
    "      f.write(sql_content)\n",
    "\n",
    "  print(f\"users{users_num}.dumpを生成しました。\")"
   ]
  },
  {
   "cell_type": "markdown",
   "metadata": {},
   "source": [
    "# API実行時間計測"
   ]
  },
  {
   "cell_type": "code",
   "execution_count": 138,
   "metadata": {},
   "outputs": [],
   "source": [
    "url = \"http://localhost:8082/api/v1/stayers\"\n",
    "baseURL = \"http://localhost:8082\"\n",
    "\n",
    "# ヘッダー\n",
    "headers = {\n",
    "    \"Content-Type\": \"application/json\"\n",
    "}"
   ]
  },
  {
   "cell_type": "markdown",
   "metadata": {},
   "source": [
    "## ユーザ登録用関数の定義（APIを用いて）"
   ]
  },
  {
   "cell_type": "markdown",
   "metadata": {},
   "source": [
    "従来手法のユーザの登録"
   ]
  },
  {
   "cell_type": "code",
   "execution_count": 195,
   "metadata": {},
   "outputs": [],
   "source": [
    "def restoreUsersTable(numUsers):\n",
    "  # 変数の値を指定\n",
    "  db_container_name = \"vol_mysql\"\n",
    "  mysql_password = \"root\"\n",
    "  db_name = \"app\"\n",
    "  dump_file = f\"test_users/uuid_method/users{numUsers}.dump\"\n",
    "\n",
    "  # 実行するコマンド\n",
    "  command = f\"docker exec -i {db_container_name} mysql -uroot -p{mysql_password} {db_name} < {dump_file}\"\n",
    "  # シェルスクリプトを実行\n",
    "  result = subprocess.run(command, shell=True, capture_output=True, text=True, env=os.environ)\n",
    "  print(result)\n",
    "  print(\"ユーザ登録完了\")"
   ]
  },
  {
   "cell_type": "code",
   "execution_count": 197,
   "metadata": {},
   "outputs": [
    {
     "name": "stdout",
     "output_type": "stream",
     "text": [
      "CompletedProcess(args='docker exec -i vol_mysql mysql -uroot -proot app < test_users/uuid_method/users200.dump', returncode=0, stdout='', stderr='mysql: [Warning] Using a password on the command line interface can be insecure.\\n')\n",
      "ユーザ登録完了\n"
     ]
    }
   ],
   "source": [
    "# シェルスクリプトを実行\n",
    "restoreUsersTable(200)"
   ]
  },
  {
   "cell_type": "markdown",
   "metadata": {},
   "source": [
    "## リクエストを定義"
   ]
  },
  {
   "cell_type": "markdown",
   "metadata": {},
   "source": [
    "### ボディデータを設定する関数を定義"
   ]
  },
  {
   "cell_type": "code",
   "execution_count": 163,
   "metadata": {},
   "outputs": [],
   "source": [
    "# 従来手法の未登録のユーザをリクエストに含める\n",
    "def getRequestBasicNonRegisterdUser(numUsers):\n",
    "    data = {\n",
    "        \"beacons\": [],\n",
    "        \"roomId\": 1\n",
    "    }\n",
    "    for i in range(numUsers):\n",
    "        hexString = ''.join(random.choices('0123456789abcdef', k=32))\n",
    "        # ボディデータ\n",
    "        data[\"beacons\"].append({\n",
    "            \"uuid\": hexString,\n",
    "            \"rssi\": -49\n",
    "        })\n",
    "    print(data)\n",
    "    return data\n",
    "\n",
    "# 従来手法の登録済みのユーザをリクエストに含める\n",
    "def getRequestBasicRegisterdUser(numUsers):\n",
    "    responseUsers = requests.get(baseURL+\"/api/v1/users/extended\")\n",
    "    users=responseUsers.json()\n",
    "    # ボディデータ\n",
    "    data = {\n",
    "        \"beacons\": [],\n",
    "        \"roomId\": 1\n",
    "    }\n",
    "    for i in range(numUsers):\n",
    "        randomUser = random.choice(users)  # ランダムに 1 人選択\n",
    "        # ボディデータ\n",
    "        data[\"beacons\"].append({\n",
    "            \"uuid\": randomUser[\"uuid\"],\n",
    "            \"rssi\": -49\n",
    "        })\n",
    "    print(data)\n",
    "    return data"
   ]
  },
  {
   "cell_type": "markdown",
   "metadata": {},
   "source": [
    "## 計測"
   ]
  },
  {
   "cell_type": "markdown",
   "metadata": {},
   "source": [
    "### 従来手法での計測"
   ]
  },
  {
   "cell_type": "code",
   "execution_count": 199,
   "metadata": {},
   "outputs": [
    {
     "name": "stdout",
     "output_type": "stream",
     "text": [
      "start bench\n",
      "1/100回目\n",
      "CompletedProcess(args='docker exec -i vol_mysql mysql -uroot -proot app < test_users/uuid_method/users100.dump', returncode=0, stdout='', stderr='mysql: [Warning] Using a password on the command line interface can be insecure.\\n')\n",
      "ユーザ登録完了\n",
      "{'beacons': [{'uuid': '7e50f07fffff4df29d5364ce1c11c5c2', 'rssi': -49}, {'uuid': '5446f2fa602f41b6a94524ec38c3f9d2', 'rssi': -49}, {'uuid': 'd78e8f2c67aa4f23a4ab299b5e289907', 'rssi': -49}, {'uuid': '17f8d7ed9634474fbfc7018e5c9c9678', 'rssi': -49}, {'uuid': '5913f4b995494ac9bcd5efad487a9c03', 'rssi': -49}, {'uuid': 'cdd0b294f0ec4a5ba9d732358e606473', 'rssi': -49}, {'uuid': '1f811e5f4c654315bb7a8dc1d23d7794', 'rssi': -49}, {'uuid': 'ca03623f2a1949ca80bc9dfb9cc92a04', 'rssi': -49}, {'uuid': 'f45d2be099214981b11e4d3fcdb1d5e7', 'rssi': -49}, {'uuid': '1587cb07307f42c4bb380effc502e3fd', 'rssi': -49}, {'uuid': '13921716fb7b48cf9f936c755b0a9c65', 'rssi': -49}, {'uuid': '537f89177fc643ecbabd66c1a34b42a8', 'rssi': -49}, {'uuid': 'a69513e121fb4a509f6bbe424ed288e1', 'rssi': -49}, {'uuid': '537f89177fc643ecbabd66c1a34b42a8', 'rssi': -49}, {'uuid': 'f45d2be099214981b11e4d3fcdb1d5e7', 'rssi': -49}, {'uuid': 'afdab85b9fec4aa9b6cf91fdb6b729bb', 'rssi': -49}, {'uuid': '8a5ff362d9bb4eb2878e7fba6ad5505d', 'rssi': -49}, {'uuid': 'ab6c9dc0eb7443649b99b7aa436c7e58', 'rssi': -49}, {'uuid': '6c8dfa84aada40588309360728428e5e', 'rssi': -49}, {'uuid': 'ab6c9dc0eb7443649b99b7aa436c7e58', 'rssi': -49}], 'roomId': 1}\n",
      "{'beacons': [{'uuid': '4ac8b5684f0af56e12c669350f546d57', 'rssi': -49}, {'uuid': '1ee32eb6c997b8b0e6649329d8f0f10c', 'rssi': -49}, {'uuid': '8aba4231de2a47902b3b23e0fa744fce', 'rssi': -49}, {'uuid': '71c682e1c49bac65b5f8406d6a3a9499', 'rssi': -49}, {'uuid': 'dec96ab2037994e5861df7210a4a5e6b', 'rssi': -49}, {'uuid': 'ec820eb96ec0d53f1299b71b8115d3ba', 'rssi': -49}, {'uuid': '7e644687911625637ed5db9535028006', 'rssi': -49}, {'uuid': '4ab4e5af6886fbc100bee95b94d858ff', 'rssi': -49}, {'uuid': 'db985b3c9934cf0b88a468bbf9ad2b65', 'rssi': -49}, {'uuid': '6f58c02f9e0ea8991e8acc7c031a202e', 'rssi': -49}, {'uuid': '93708b52f702ea505f893e98696ce935', 'rssi': -49}, {'uuid': 'f5c3f88d19dfd3a5036236577cada2e7', 'rssi': -49}, {'uuid': '012f494e8f2fe45c922b353c020d4101', 'rssi': -49}, {'uuid': '9f3e2219de1cc49c9e6867a2cf42f0df', 'rssi': -49}, {'uuid': '2516e6d55c2c9114881ae6cf7d2ff5ca', 'rssi': -49}, {'uuid': 'cd73d7516378976a7bf6e341f6f52533', 'rssi': -49}, {'uuid': '02444fc0d0669e2c9b31b54f849e6cb3', 'rssi': -49}, {'uuid': '8869d4a24d79a92041df23a6e9eae17a', 'rssi': -49}, {'uuid': 'b741340b74a116f7dde5e29518472bc5', 'rssi': -49}, {'uuid': '32e0492e7f740e6a45abedc0dc3850d0', 'rssi': -49}], 'roomId': 1}\n",
      "2/100回目\n",
      "CompletedProcess(args='docker exec -i vol_mysql mysql -uroot -proot app < test_users/uuid_method/users200.dump', returncode=0, stdout='', stderr='mysql: [Warning] Using a password on the command line interface can be insecure.\\n')\n",
      "ユーザ登録完了\n",
      "{'beacons': [{'uuid': '43b8fb9625404a56a457744a0ceeea8f', 'rssi': -49}, {'uuid': '0a7f7fdeb9ad4fca9f62025519ffbe50', 'rssi': -49}, {'uuid': '33fc51814f954bf7a7bb40dd7cd82bd8', 'rssi': -49}, {'uuid': '85c7b97d819d42a291fbc072d6249041', 'rssi': -49}, {'uuid': 'b44e1dcd466348e5bf69de2e7aad675d', 'rssi': -49}, {'uuid': '80efd41708294418905a6faca6a84757', 'rssi': -49}, {'uuid': '6da07491b23e43ef8e6b56a91af43ff8', 'rssi': -49}, {'uuid': 'cbc368088b4c47e9a699390806bb82da', 'rssi': -49}, {'uuid': '58bca87e86da4605b3659a5c8ea47162', 'rssi': -49}, {'uuid': '06c23a58ef78429db266ca0964175711', 'rssi': -49}, {'uuid': '06ee5d8da5554bb4bdbc5a2bee026087', 'rssi': -49}, {'uuid': '2d5b904e22234952a7d61036b400c1bf', 'rssi': -49}, {'uuid': '30a30a6ac63f4343ab4f17f49c742071', 'rssi': -49}, {'uuid': '87fdfe83415f4130a884134a4cadb8d9', 'rssi': -49}, {'uuid': 'c9a1d58c39b24c8fae31150469c6f73b', 'rssi': -49}, {'uuid': '4c4434f2b5544909b47c36df9c769247', 'rssi': -49}, {'uuid': '06c23a58ef78429db266ca0964175711', 'rssi': -49}, {'uuid': '08a60e3522124dedb67a03d77b2b7ced', 'rssi': -49}, {'uuid': '6c54f6e4b69541b4b5270387a9858d0b', 'rssi': -49}, {'uuid': '10203ee31fe448f2a6ba941ca4a7e8eb', 'rssi': -49}], 'roomId': 1}\n",
      "{'beacons': [{'uuid': '66bf9cb56be786362a41753c42904733', 'rssi': -49}, {'uuid': 'aef331f06960b9ce6412312bfcafb756', 'rssi': -49}, {'uuid': 'f8be4454f6692bb2319b98913881db4a', 'rssi': -49}, {'uuid': '9fa527c188437035e225e1122b350370', 'rssi': -49}, {'uuid': '468dd3325d7d876931acf6cb25b30d1b', 'rssi': -49}, {'uuid': '7783f948878bd2599562e32d014d35e1', 'rssi': -49}, {'uuid': 'cc5ac0ee709539330d6f9cdeb33cda2e', 'rssi': -49}, {'uuid': 'f4a49f5fc6ee88b5ab64c173e65a699f', 'rssi': -49}, {'uuid': 'cdc894093e4cf61f3c57163f5f15cfc9', 'rssi': -49}, {'uuid': '23cde1675ba59e51a54c9cb685fdb752', 'rssi': -49}, {'uuid': '3ee74b90e0001c475b39d4457d55816a', 'rssi': -49}, {'uuid': 'bddf79acb88cc736b056942d18cd3a5f', 'rssi': -49}, {'uuid': '56f0772bfb6c4f21522a38e45f13a1fe', 'rssi': -49}, {'uuid': '8c5761821c0cd364436569849b7b54b1', 'rssi': -49}, {'uuid': '4c85bbce2b198011cb3c8643b0f70bc4', 'rssi': -49}, {'uuid': '9b767ec66c86be8e11d9928ed26d844d', 'rssi': -49}, {'uuid': '296f4e630a5ac224cda030505dc729b3', 'rssi': -49}, {'uuid': '01d888fcfe317945bb35c05980f4483d', 'rssi': -49}, {'uuid': '0db64ad8c44d9257444b8812dfe05ec7', 'rssi': -49}, {'uuid': 'b11627a34d32bb453ba14a0d212945b3', 'rssi': -49}], 'roomId': 1}\n",
      "3/100回目\n",
      "CompletedProcess(args='docker exec -i vol_mysql mysql -uroot -proot app < test_users/uuid_method/users300.dump', returncode=0, stdout='', stderr='mysql: [Warning] Using a password on the command line interface can be insecure.\\n')\n",
      "ユーザ登録完了\n",
      "{'beacons': [{'uuid': '1c48f019ffe74e4f866f8ecdf04f3616', 'rssi': -49}, {'uuid': 'b944f43018a84315b2691c83256010d1', 'rssi': -49}, {'uuid': '26a59cec59d04fc3a9484707b29752a2', 'rssi': -49}, {'uuid': '26a59cec59d04fc3a9484707b29752a2', 'rssi': -49}, {'uuid': 'ff29741e36fb4cfc90165a62fca629e3', 'rssi': -49}, {'uuid': 'd3f7afc97e7d4d8d9372c79acafbbb03', 'rssi': -49}, {'uuid': 'e4d77a72a54b4ec1b4020cb2b6b81e86', 'rssi': -49}, {'uuid': 'ba6a8ac27854465ca9a52bf0406b0550', 'rssi': -49}, {'uuid': '8abba2107d15470fa0e3b68e379bf98c', 'rssi': -49}, {'uuid': '8d8299079d4e4681a774300b1d2c4fb7', 'rssi': -49}, {'uuid': '61e64ab2ea6745fb840aa157fb1e173e', 'rssi': -49}, {'uuid': '6a82ae9d92bb4e3f9cbe54f16facfe4d', 'rssi': -49}, {'uuid': 'bd3a51bf7c9e44c7b38f939fd6fc12cd', 'rssi': -49}, {'uuid': '59bb0544fffd4936b1d376e96598efa8', 'rssi': -49}, {'uuid': '402842db68ee4aad802dc1d2347262ce', 'rssi': -49}, {'uuid': '2bd8ef32da0f4e688b9f65afbfc9094f', 'rssi': -49}, {'uuid': 'bd3a51bf7c9e44c7b38f939fd6fc12cd', 'rssi': -49}, {'uuid': '3556ca97293942a3bee31705ea012019', 'rssi': -49}, {'uuid': 'ea838cd80e604ecb8085c209dad5185c', 'rssi': -49}, {'uuid': '382f97bed9fa4a0abec871215bbe5161', 'rssi': -49}], 'roomId': 1}\n",
      "{'beacons': [{'uuid': '582d30a15c085dc4d85079621ce19eca', 'rssi': -49}, {'uuid': '199e4d053ad86dcbe5c464b7512dc88a', 'rssi': -49}, {'uuid': '00e2a3252ab5c45895919539a3090d8c', 'rssi': -49}, {'uuid': '736ee9d825dc9bccb2d2bbd4010e4253', 'rssi': -49}, {'uuid': '52f4818d876fed407883bf66eb06aa66', 'rssi': -49}, {'uuid': 'f2fd0c691e4d4180c4f1ca183938f94c', 'rssi': -49}, {'uuid': '9a006052979598f8d76b625fcc950bc3', 'rssi': -49}, {'uuid': 'd83aee45b3a1324690ed876e890949ad', 'rssi': -49}, {'uuid': '4150e15dbdff7210aa8dcebbbad5e160', 'rssi': -49}, {'uuid': '9ecd9be757c2a06843bc8a11a85992e6', 'rssi': -49}, {'uuid': 'a2ea6d6d8692518ee2ce603c527d8e78', 'rssi': -49}, {'uuid': '2674b70c37c0aa89b42c2eed4107b2db', 'rssi': -49}, {'uuid': '8b939d68a68168aba5f1501055751039', 'rssi': -49}, {'uuid': '89bcf0b8872719474915915d8bedc437', 'rssi': -49}, {'uuid': '6707ff762c848daed5b081ecec71e028', 'rssi': -49}, {'uuid': '6bef28540afdd8af526f1d11cf636115', 'rssi': -49}, {'uuid': '68ead970f73d0aa84c20852c4e841171', 'rssi': -49}, {'uuid': 'faf23d2faa4b50d40294859b903328e3', 'rssi': -49}, {'uuid': 'e605cbf03bacfa67adc5c4d695c2ab80', 'rssi': -49}, {'uuid': 'b32d2ec2ad610269a7f091136cbf2be0', 'rssi': -49}], 'roomId': 1}\n",
      "4/100回目\n",
      "CompletedProcess(args='docker exec -i vol_mysql mysql -uroot -proot app < test_users/uuid_method/users400.dump', returncode=0, stdout='', stderr='mysql: [Warning] Using a password on the command line interface can be insecure.\\n')\n",
      "ユーザ登録完了\n",
      "{'beacons': [{'uuid': '9f0277dd913a4f2e933899e90fa23056', 'rssi': -49}, {'uuid': '2d04467218494a5787d34e9b41d73a15', 'rssi': -49}, {'uuid': 'cfc1240ae2d742b395d6228607938952', 'rssi': -49}, {'uuid': '25d07024d6954b5c895a0ce29cbf1ada', 'rssi': -49}, {'uuid': '0657a114a74844a1a69a5b40ccdb78fd', 'rssi': -49}, {'uuid': '8d8930242a1b4c2a957910a9022ef3c5', 'rssi': -49}, {'uuid': '40cb4ac4d37e4253b6c078f85240baf9', 'rssi': -49}, {'uuid': '852cfd6b84a048ee85b241431feccf49', 'rssi': -49}, {'uuid': '52f744192d3142eabda757b80bd84ff5', 'rssi': -49}, {'uuid': '6729495024194bbca572de9b1b890a16', 'rssi': -49}, {'uuid': '558c3bbeed154ba3be0177fa694500e6', 'rssi': -49}, {'uuid': '243d7f9bc069423a88ddbdacbb68691b', 'rssi': -49}, {'uuid': '84e42eccfc724c97b1866f681b55d668', 'rssi': -49}, {'uuid': '217390913fdc4f728990dcdc60091144', 'rssi': -49}, {'uuid': '15cce88db0164839b889756a11c4351f', 'rssi': -49}, {'uuid': '53b6055f42f647b9836c543c6fcd1ee4', 'rssi': -49}, {'uuid': '9118769565f848728d3fe6ca290ca5b4', 'rssi': -49}, {'uuid': '4f70618e1c5549649a9eed4161a08bd1', 'rssi': -49}, {'uuid': 'aeece6f4b3fa46a9b7d680225dfed8be', 'rssi': -49}, {'uuid': '21208eab52b84274a3bd00662130373b', 'rssi': -49}], 'roomId': 1}\n",
      "{'beacons': [{'uuid': '75652f535a43ebab1942bcd87f16f754', 'rssi': -49}, {'uuid': '017f0ba050965c74e6796e73a4a983b5', 'rssi': -49}, {'uuid': '6478081364e65472155d497bb927c86b', 'rssi': -49}, {'uuid': '0538841a3f3cbeff3028545d3a10c676', 'rssi': -49}, {'uuid': '235c368527762bc6babab8f968cab6e8', 'rssi': -49}, {'uuid': 'f3376d2da870a6c3ababfef27ae93023', 'rssi': -49}, {'uuid': 'ebfd85321622120e9bcb30c164278021', 'rssi': -49}, {'uuid': 'af6cb1763c0f543d03c0a6008fe22b3c', 'rssi': -49}, {'uuid': '64aaf376dd294b107f44e9ed3414f2ac', 'rssi': -49}, {'uuid': '41bd09972ddee8002699cbdb04152e86', 'rssi': -49}, {'uuid': '8fe428725ce7e341cbc9133a9986a43c', 'rssi': -49}, {'uuid': '9494f62d474031700866bc9a0f8b6a33', 'rssi': -49}, {'uuid': '17f03deff26cc2085f0a3ca58aa47f93', 'rssi': -49}, {'uuid': 'b59ee2d9080889340c45bdd599e8d119', 'rssi': -49}, {'uuid': '54a5a0c81c97480687b681fb3c0c3702', 'rssi': -49}, {'uuid': '7554dfbb49b9c84a3a6c7d2adfc25874', 'rssi': -49}, {'uuid': '286d31aa98af179d862091daf9fe6762', 'rssi': -49}, {'uuid': '88efc36e76deee56436dafc01643dafa', 'rssi': -49}, {'uuid': '4430e5645859ef70ef29ff10582f32a7', 'rssi': -49}, {'uuid': 'f7e3dc87785c93c1b41da7dbd4865c18', 'rssi': -49}], 'roomId': 1}\n"
     ]
    }
   ],
   "source": [
    "FILE_PATH = \"out/basic02.csv\"\n",
    "with open(FILE_PATH, 'w') as f:\n",
    "  writer = csv.writer(f)\n",
    "  writer.writerow(['users', 'time', 'user_state', 'status'])\n",
    "\n",
    "print(\"start bench\")\n",
    "\n",
    "for i in range(4):\n",
    "  print(str(i+1) + \"/100回目\")\n",
    "  # 100人ランダムな従来ユーザを登録する（PythonでWebAPIを用いて）\n",
    "  restoreUsersTable(100*(i+1))\n",
    "\n",
    "  # ランダムなユーザ(登録済み)を20人POSTで投げる\n",
    "  req_json = getRequestBasicRegisterdUser(20)\n",
    "  start = time.perf_counter()\n",
    "  response = requests.post(url, json=req_json, headers=headers)\n",
    "  end = time.perf_counter()\n",
    "  with open(FILE_PATH, 'a', newline='') as f:\n",
    "    writer = csv.writer(f)\n",
    "    writer.writerow([100*(i+1), end - start, 'Registerd', response.json()])  # 1行追加\n",
    "\n",
    "  # ランダムなユーザ(未登録)を20人POSTで投げる\n",
    "  req_json = getRequestBasicNonRegisterdUser(20)\n",
    "  start = time.perf_counter()\n",
    "  response = requests.post(url, json=req_json, headers=headers)\n",
    "  end = time.perf_counter()\n",
    "  with open(FILE_PATH, 'a', newline='') as f:\n",
    "    writer = csv.writer(f)\n",
    "    writer.writerow([100*(i+1), end - start, 'NonRegisterd', response.json()])  # 1行追加\n",
    "\n",
    "\n",
    "# start = time.perf_counter()\n",
    "\n",
    "# response = requests.post(url, json=getRequestBasicNonRegisterdUser(10), headers=headers)\n",
    "\n",
    "# end = time.perf_counter()\n",
    "# print(response.json())\n",
    "# print(\"end bench\")\n",
    "# print(\"実行時間: \" + str(end - start) + \" sec\")"
   ]
  },
  {
   "cell_type": "markdown",
   "metadata": {},
   "source": [
    "### 滞在情報をリセット"
   ]
  },
  {
   "cell_type": "code",
   "execution_count": 96,
   "metadata": {},
   "outputs": [],
   "source": [
    "# ボディデータ\n",
    "data = {\n",
    "    \"beacons\": [\n",
    "    ],\n",
    "    \"roomId\": 1\n",
    "}\n",
    "response = requests.post(url, json=data, headers=headers)"
   ]
  }
 ],
 "metadata": {
  "kernelspec": {
   "display_name": "Python 3",
   "language": "python",
   "name": "python3"
  },
  "language_info": {
   "codemirror_mode": {
    "name": "ipython",
    "version": 3
   },
   "file_extension": ".py",
   "mimetype": "text/x-python",
   "name": "python",
   "nbconvert_exporter": "python",
   "pygments_lexer": "ipython3",
   "version": "3.9.6"
  }
 },
 "nbformat": 4,
 "nbformat_minor": 2
}
