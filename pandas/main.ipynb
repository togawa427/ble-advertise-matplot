{
 "cells": [
  {
   "cell_type": "markdown",
   "metadata": {},
   "source": [
    "実装にあたってこちらの記事を参考にさせていただきました  \n",
    "[Zenn 歩行時の加速度,角速度データから歩行軌跡を描いてみた - Beyond Toyama](https://zenn.dev/happy663/articles/1a0abc285b3a33)"
   ]
  },
  {
   "cell_type": "markdown",
   "metadata": {},
   "source": [
    "# 事前準備"
   ]
  },
  {
   "cell_type": "markdown",
   "metadata": {},
   "source": [
    "## ライブラリのインポート"
   ]
  },
  {
   "cell_type": "code",
   "execution_count": 2,
   "metadata": {},
   "outputs": [
    {
     "name": "stdout",
     "output_type": "stream",
     "text": [
      "Defaulting to user installation because normal site-packages is not writeable\n",
      "Requirement already satisfied: japanize_matplotlib in /Users/togawa/Library/Python/3.9/lib/python/site-packages (1.1.3)\n",
      "Requirement already satisfied: matplotlib in /Users/togawa/Library/Python/3.9/lib/python/site-packages (from japanize_matplotlib) (3.9.4)\n",
      "Requirement already satisfied: contourpy>=1.0.1 in /Users/togawa/Library/Python/3.9/lib/python/site-packages (from matplotlib->japanize_matplotlib) (1.3.0)\n",
      "Requirement already satisfied: importlib-resources>=3.2.0 in /Users/togawa/Library/Python/3.9/lib/python/site-packages (from matplotlib->japanize_matplotlib) (6.5.2)\n",
      "Requirement already satisfied: fonttools>=4.22.0 in /Users/togawa/Library/Python/3.9/lib/python/site-packages (from matplotlib->japanize_matplotlib) (4.56.0)\n",
      "Requirement already satisfied: kiwisolver>=1.3.1 in /Users/togawa/Library/Python/3.9/lib/python/site-packages (from matplotlib->japanize_matplotlib) (1.4.7)\n",
      "Requirement already satisfied: python-dateutil>=2.7 in /Users/togawa/Library/Python/3.9/lib/python/site-packages (from matplotlib->japanize_matplotlib) (2.9.0.post0)\n",
      "Requirement already satisfied: packaging>=20.0 in /Users/togawa/Library/Python/3.9/lib/python/site-packages (from matplotlib->japanize_matplotlib) (24.2)\n",
      "Requirement already satisfied: pillow>=8 in /Users/togawa/Library/Python/3.9/lib/python/site-packages (from matplotlib->japanize_matplotlib) (11.1.0)\n",
      "Requirement already satisfied: pyparsing>=2.3.1 in /Users/togawa/Library/Python/3.9/lib/python/site-packages (from matplotlib->japanize_matplotlib) (3.2.1)\n",
      "Requirement already satisfied: cycler>=0.10 in /Users/togawa/Library/Python/3.9/lib/python/site-packages (from matplotlib->japanize_matplotlib) (0.12.1)\n",
      "Requirement already satisfied: numpy>=1.23 in /Users/togawa/Library/Python/3.9/lib/python/site-packages (from matplotlib->japanize_matplotlib) (2.0.2)\n",
      "Requirement already satisfied: zipp>=3.1.0 in /Users/togawa/Library/Python/3.9/lib/python/site-packages (from importlib-resources>=3.2.0->matplotlib->japanize_matplotlib) (3.21.0)\n",
      "Requirement already satisfied: six>=1.5 in /Applications/Xcode.app/Contents/Developer/Library/Frameworks/Python3.framework/Versions/3.9/lib/python3.9/site-packages (from python-dateutil>=2.7->matplotlib->japanize_matplotlib) (1.15.0)\n",
      "\u001b[33mWARNING: You are using pip version 21.2.4; however, version 25.0 is available.\n",
      "You should consider upgrading via the '/Applications/Xcode.app/Contents/Developer/usr/bin/python3 -m pip install --upgrade pip' command.\u001b[0m\n",
      "Note: you may need to restart the kernel to use updated packages.\n",
      "Defaulting to user installation because normal site-packages is not writeable\n",
      "Requirement already satisfied: pandas in /Users/togawa/Library/Python/3.9/lib/python/site-packages (2.2.3)\n",
      "Requirement already satisfied: pytz>=2020.1 in /Users/togawa/Library/Python/3.9/lib/python/site-packages (from pandas) (2025.1)\n",
      "Requirement already satisfied: python-dateutil>=2.8.2 in /Users/togawa/Library/Python/3.9/lib/python/site-packages (from pandas) (2.9.0.post0)\n",
      "Requirement already satisfied: numpy>=1.22.4 in /Users/togawa/Library/Python/3.9/lib/python/site-packages (from pandas) (2.0.2)\n",
      "Requirement already satisfied: tzdata>=2022.7 in /Users/togawa/Library/Python/3.9/lib/python/site-packages (from pandas) (2025.1)\n",
      "Requirement already satisfied: six>=1.5 in /Applications/Xcode.app/Contents/Developer/Library/Frameworks/Python3.framework/Versions/3.9/lib/python3.9/site-packages (from python-dateutil>=2.8.2->pandas) (1.15.0)\n",
      "\u001b[33mWARNING: You are using pip version 21.2.4; however, version 25.0 is available.\n",
      "You should consider upgrading via the '/Applications/Xcode.app/Contents/Developer/usr/bin/python3 -m pip install --upgrade pip' command.\u001b[0m\n",
      "Note: you may need to restart the kernel to use updated packages.\n",
      "Defaulting to user installation because normal site-packages is not writeable\n",
      "Requirement already satisfied: scipy in /Users/togawa/Library/Python/3.9/lib/python/site-packages (1.13.1)\n",
      "Requirement already satisfied: numpy<2.3,>=1.22.4 in /Users/togawa/Library/Python/3.9/lib/python/site-packages (from scipy) (2.0.2)\n",
      "\u001b[33mWARNING: You are using pip version 21.2.4; however, version 25.0 is available.\n",
      "You should consider upgrading via the '/Applications/Xcode.app/Contents/Developer/usr/bin/python3 -m pip install --upgrade pip' command.\u001b[0m\n",
      "Note: you may need to restart the kernel to use updated packages.\n"
     ]
    }
   ],
   "source": [
    "%pip install japanize_matplotlib\n",
    "%pip install pandas\n",
    "%pip install scipy\n"
   ]
  },
  {
   "cell_type": "code",
   "execution_count": 3,
   "metadata": {},
   "outputs": [],
   "source": [
    "import pandas as pd\n",
    "import matplotlib.pyplot as plt\n",
    "import japanize_matplotlib\n",
    "import numpy as np\n",
    "from scipy import signal\n",
    "from scipy.signal import find_peaks\n",
    "from io import StringIO"
   ]
  },
  {
   "cell_type": "markdown",
   "metadata": {},
   "source": [
    "## センサデータの取得"
   ]
  },
  {
   "cell_type": "code",
   "execution_count": 28,
   "metadata": {},
   "outputs": [],
   "source": [
    "# acc_file_path = \"https://raw.githubusercontent.com/kanakanho/kajilab-PDR/main/data/acc.csv\"\n",
    "# gyro_file_path = \"https://raw.githubusercontent.com/kanakanho/kajilab-PDR/main/data/gyro.csv\"\n",
    "\n",
    "# # 通信してデータを取得\n",
    "# df_acc = pd.read_csv(acc_file_path)\n",
    "# df_gyro = pd.read_csv(gyro_file_path)"
   ]
  },
  {
   "cell_type": "markdown",
   "metadata": {},
   "source": [
    "# センサデータの加工"
   ]
  },
  {
   "cell_type": "markdown",
   "metadata": {},
   "source": [
    "## ウィンドウの宣言"
   ]
  },
  {
   "cell_type": "code",
   "execution_count": 4,
   "metadata": {},
   "outputs": [],
   "source": [
    "window_acc = 400\n",
    "window_pre = 240\n",
    "window_gayo = 200\n",
    "shift_amount = window_pre * -1"
   ]
  },
  {
   "cell_type": "markdown",
   "metadata": {},
   "source": [
    "## データの描画"
   ]
  },
  {
   "cell_type": "markdown",
   "metadata": {},
   "source": [
    "### 電波の表示"
   ]
  },
  {
   "cell_type": "markdown",
   "metadata": {},
   "source": [
    "CSVファイルを読み取る"
   ]
  },
  {
   "cell_type": "code",
   "execution_count": null,
   "metadata": {},
   "outputs": [],
   "source": [
    "data = \"\"\"time,mac_address,service_uuid,rssi\n",
    "11:27:11,11-22-33-44-55-66,0d7e93aa-563a-4feb-8635-ed9ed29c6c00,-45\n",
    "11:27:12,A1-BB-CB-FE-5A-6B,9f8274e5-8772-4f90-b1f1-1355d98d82f6,-34\n",
    "11:27:12,B1-CC-FF-FA-1A-3B,3cb5a2b2-42fc-42cb-b1c4-2098313537ed,-78\n",
    "11:27:12,FF-AB-1F-FB-34-54,7cf23107-156a-4127-b618-0ffe56fdee44,-90\n",
    "11:27:19,11-22-33-44-55-66,0d7e93aa-563a-4feb-8635-ed9ed29c6c00,-47\n",
    "11:27:20,A1-BB-CB-FE-5A-6B,9f8274e5-8772-4f90-b1f1-1355d98d82f6,-31\n",
    "11:27:20,B1-CC-FF-FA-1A-3B,3cb5a2b2-42fc-42cb-b1c4-2098313537ed,-67\n",
    "11:27:46,A1-BB-CB-FE-5A-6B,9f8274e5-8772-4f90-b1f1-1355d98d82f6,-34\n",
    "11:27:46,B1-CC-FF-FA-1A-3B,3cb5a2b2-42fc-42cb-b1c4-2098313537ed,-81\n",
    "11:27:56,11-22-33-44-55-66,0d7e93aa-563a-4feb-8635-ed9ed29c6c00,-49\n",
    "\"\"\"\n",
    "\n",
    "# データをDataFrameとして読み込む\n",
    "df = pd.read_csv(StringIO(data))\n",
    "\n",
    "# timeをdatetime型に変換（時間順に並べるため）\n",
    "df['time'] = pd.to_datetime(df['time'], format='%H:%M:%S')"
   ]
  },
  {
   "cell_type": "markdown",
   "metadata": {},
   "source": [
    "グラフを描画する"
   ]
  },
  {
   "cell_type": "code",
   "execution_count": null,
   "metadata": {},
   "outputs": [],
   "source": [
    "# グラフの描画\n",
    "plt.figure(figsize=(12, 6))\n",
    "\n",
    "# MACアドレスごとにグループ化してプロット\n",
    "for mac, group in df.groupby('mac_address'):\n",
    "    plt.plot(group['time'], group['rssi'], marker='o', label=mac)\n",
    "\n",
    "# グラフの装飾\n",
    "plt.xlabel('時間')\n",
    "plt.ylabel('RSSI (dBm)')\n",
    "plt.title('RSSIの時系列変化')\n",
    "plt.grid(True)\n",
    "plt.legend(title='MACアドレス')\n",
    "\n",
    "# 表示\n",
    "plt.show()\n",
    "\n",
    "# plt.subplots_adjust(hspace=0.3)\n",
    "# fig = plt.figure(figsize=(10, 10))\n",
    "\n",
    "# # 加速度のプロット\n",
    "# ax1 = fig.add_subplot(2,1,1)\n",
    "# ax1.title.set_text(\"加速度\")\n",
    "# ax1.plot(df_acc[\"t\"], df_acc[\"x\"], label=\"acc_x\")\n",
    "# ax1.plot(df_acc[\"t\"], df_acc[\"y\"], label=\"acc_y\")\n",
    "# ax1.plot(df_acc[\"t\"], df_acc[\"z\"], label=\"acc_z\")\n",
    "# ax1.set_xlabel(\"time\")\n",
    "# ax1.set_ylabel(\"acceleration [m/s^2]\")\n",
    "# ax1.set_xlim(0, 100)\n",
    "# ax1.set_ylim(-10, 50)\n",
    "# ax1.legend()\n",
    "\n",
    "# # ジャイロのプロット\n",
    "# ax2 = fig.add_subplot(2,1,2)\n",
    "# ax2.title.set_text(\"角度\")\n",
    "# ax2.plot(df_gyro[\"t\"], df_gyro[\"x\"], label=\"gyro_x\")\n",
    "# ax2.plot(df_gyro[\"t\"], df_gyro[\"y\"], label=\"gyro_y\")\n",
    "# ax2.plot(df_gyro[\"t\"], df_gyro[\"z\"], label=\"gyro_z\")\n",
    "# ax2.set_xlabel(\"time\")\n",
    "# ax2.set_ylabel(\"angular velocity [rad/s]\")\n",
    "# ax2.set_xlim(0, 100)\n",
    "# ax2.set_ylim(-10, 50)\n",
    "# ax2.legend()\n",
    "\n",
    "# plt.show()"
   ]
  },
  {
   "cell_type": "markdown",
   "metadata": {},
   "source": [
    "### 性能評価"
   ]
  },
  {
   "cell_type": "code",
   "execution_count": 8,
   "metadata": {},
   "outputs": [
    {
     "data": {
      "image/png": "[encoded data removed]",
      "text/plain": [
       "<Figure size 1200x600 with 1 Axes>"
      ]
     },
     "metadata": {},
     "output_type": "display_data"
    }
   ],
   "source": [
    "# acc_file_path = \"https://raw.githubusercontent.com/kanakanho/kajilab-PDR/main/data/acc.csv\"\n",
    "# gyro_file_path = \"https://raw.githubusercontent.com/kanakanho/kajilab-PDR/main/data/gyro.csv\"\n",
    "\n",
    "# # 通信してデータを取得\n",
    "# df_acc = pd.read_csv(acc_file_path)\n",
    "# df_gyro = pd.read_csv(gyro_file_path)\n",
    "\n",
    "# data = pd.read_csv(\"data/siphash1.csv\")\n",
    "\n",
    "# CSVファイルのパス（例: data.csv）\n",
    "file_path = 'data/siphash1.csv'\n",
    "# file_path = 'data/basic1.csv'\n",
    "# CSVファイルを読み込む\n",
    "df = pd.read_csv(file_path)\n",
    "\n",
    "# データをDataFrameとして読み込む\n",
    "# df = pd.read_csv(StringIO(data))\n",
    "\n",
    "# 折れ線グラフの描画\n",
    "plt.figure(figsize=(12, 6))\n",
    "plt.plot(df['users'], df['time'], marker='o', linestyle='-', color='b')\n",
    "\n",
    "# グラフの装飾\n",
    "plt.xlabel('ユーザー数')\n",
    "plt.ylabel('処理時間 (秒)')\n",
    "plt.title('ユーザー数と処理時間の関係')\n",
    "plt.grid(True)\n",
    "\n",
    "# 表示\n",
    "plt.show()"
   ]
  }
 ],
 "metadata": {
  "kernelspec": {
   "display_name": "Python 3",
   "language": "python",
   "name": "python3"
  },
  "language_info": {
   "codemirror_mode": {
    "name": "ipython",
    "version": 3
   },
   "file_extension": ".py",
   "mimetype": "text/x-python",
   "name": "python",
   "nbconvert_exporter": "python",
   "pygments_lexer": "ipython3",
   "version": "3.9.6"
  }
 },
 "nbformat": 4,
 "nbformat_minor": 2
}
